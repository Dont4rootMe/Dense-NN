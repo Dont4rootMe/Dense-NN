{
 "cells": [
  {
   "cell_type": "markdown",
   "metadata": {},
   "source": [
    "# `Практикум по программированию на языке Python`\n",
    "\n",
    "## `Задание 01. Полносвязная нейронная сеть на numpy`.\n",
    "\n",
    "#### Фамилия, имя: \n",
    "\n",
    "Дата выдачи: <span style=\"color:red\">__20 февраля__</span>.\n",
    "\n",
    "Мягкий дедлайн: <span style=\"color:red\">__6 марта 23:59__</span>.\n",
    "\n",
    "Стоимость: __10 баллов__ (основная часть заданий) + __3 балла__ (дополнительные задания).\n",
    "\n",
    "<span style=\"color:red\">__В ноутбуке все клетки должны выполняться без ошибок при последовательном их выполнении.__</span>\n",
    "\n",
    "#### `Москва, 2024`"
   ]
  },
  {
   "cell_type": "code",
   "execution_count": 168,
   "metadata": {
    "ExecuteTime": {
     "end_time": "2021-03-03T14:44:48.909044Z",
     "start_time": "2021-03-03T14:44:48.683650Z"
    }
   },
   "outputs": [],
   "source": [
    "import numpy as np\n",
    "from numpy import vectorize\n",
    "from scipy.special import logsumexp\n",
    "from icecream import ic\n",
    "import matplotlib.pyplot as plt\n",
    "from sklearn.datasets import load_digits\n",
    "from sklearn.manifold import TSNE\n",
    "%matplotlib inline\n"
   ]
  },
  {
   "cell_type": "markdown",
   "metadata": {
    "heading_collapsed": true
   },
   "source": [
    "## `Теоретическая часть (3 балла)`"
   ]
  },
  {
   "cell_type": "markdown",
   "metadata": {},
   "source": [
    "В этом блоке вам нужно решить 3 задания."
   ]
  },
  {
   "cell_type": "markdown",
   "metadata": {},
   "source": [
    "### `Задание 1. Градиенты для слоя Batch normalization (1.5 балла)`"
   ]
  },
  {
   "cell_type": "markdown",
   "metadata": {},
   "source": [
    "Рассмотрим слой Batch normalization. Пусть на вход этого слоя был подан батч из $n$ объектов, при этом у всех объектов по 1 признаку. Представим вход BN слоя в виде $X \\in \\mathbb{R}^{n \\times 1}$.\n",
    "\n",
    "Тогда в этом слое производятся следующие вычисления:\n",
    "\n",
    "$$ \\mu = \\frac1n \\sum_{i=1}^{n} X_i $$\n",
    "\n",
    "$$ \\sigma^2 = \\frac1n \\sum_{i=1}^{n} \\left( X_i - \\mu \\right) ^2 $$\n",
    "\n",
    "$$ \\tilde{y_i} = \\frac{X_i - \\mu}{\\sqrt{\\sigma^2 + \\varepsilon}} $$\n",
    "\n",
    "$$ y_i = \\gamma \\tilde{y_i} + \\delta $$\n",
    "\n",
    "Выходом BN слоя является $y_i$, а $\\gamma,\\delta\\in\\mathbb{R}$ — параметры, которые подбираются во время обучения вместе с другими параметрами нейронной сети (наряду, например, с весами линейного слоя).\n",
    "\n",
    "Рассмотрим нейронную сеть, в которой есть BN слой. Предположим, что вычисления в нейронной сети завершаются подсчетом функции потерь $\\mathcal{L}$. Пусть мы выполнили прямой проход по нейронной сети и сейчас делаем обратный проход с помощью метода обратного распространения ошибки. Пусть BN слою пришел градиент функции потерь по выходу BN слоя ($\\nabla_{y} \\mathcal{L}$).\n",
    "\n",
    "В этом задании вам нужно записать вычисление градиента функции потерь по параметрам слоя BN $\\gamma$ и $\\delta$ ($\\nabla_{\\gamma} \\mathcal{L}$, $\\nabla_{\\delta} \\mathcal{L}$) через $\\nabla_{y} \\mathcal{L}$, а также вам нужно записать вычисление градиента функции потерь по входу слоя BN $X$ ($\\nabla_{X} \\mathcal{L}$) через $\\nabla_{y} \\mathcal{L}$.\n",
    "\n",
    "Хочу заметить, в данном задании мы рассматриваем объекты всего с 1 признаком, чтобы упростить выкладки."
   ]
  },
  {
   "cell_type": "markdown",
   "metadata": {},
   "source": [
    "__Ваше решение:__\n",
    "\n",
    "---\n",
    "\n",
    "Сперва посмотрим, как производится дифференцирование сложных функций. Посмотрим на простейший пример композиции скалярных функций.\n",
    "\n",
    "$$\n",
    "  \\begin{equation*}\n",
    "    \\left\\{\n",
    "      \\begin{aligned}\n",
    "        & Y: \\mathbb{R} \\longmapsto \\mathbb{R} \\\\\n",
    "        & x \\: : \\mathbb{R} \\times \\mathbb{R} \\longmapsto \\mathbb{R}\n",
    "      \\end{aligned}\n",
    "    \\right.\n",
    "  \\end{equation*}\n",
    "\n",
    "  \\Longrightarrow Y(x(a, b)), \\:\\: a, b \\in \\mathbb{R} \\Longrightarrow \n",
    "\n",
    "  \\begin{equation*}\n",
    "    \\left\\{\n",
    "      \\begin{aligned}\n",
    "        & \\nabla_{x}Y = \\frac{\\partial Y}{\\partial x} \\\\\n",
    "        & \\Rightarrow \\nabla_{a}Y = \\frac{\\partial x}{\\partial a} \\nabla_{x}Y = \\frac{\\partial Y}{\\partial x} \\frac{\\partial x}{\\partial a}\\\\\n",
    "        & \\Rightarrow \\nabla_{b}Y = \\frac{\\partial x}{\\partial b} \\nabla_{x}Y = \\frac{\\partial Y}{\\partial x} \\frac{\\partial x}{\\partial b}\n",
    "      \\end{aligned}\n",
    "    \\right.\n",
    "  \\end{equation*}\n",
    "$$\n",
    "\n",
    "Данный пример наглядно показывает модель распространения градиента при вычислении частных производных сложных функций. Однако для нашей задачи исходный градиент раскрывается как $\\nabla_y \\mathcal{L} = \\left \\{ \\frac{\\partial \\mathcal{L}}{\\partial y_1} \\: \\dotsi \\frac{\\partial \\mathcal{L}}{\\partial y_k} \\right \\}$, а это уже является более сложным случаем матричного дифференцирования. В таком случае введем оператор дифференцирования, действующий на объекты из пространств $\\mathbb{R}, \\, \\mathbb{R}^m \\, \\text{и} \\, \\mathbb{R}^{m \\times n}$, обозначим его в виде $D$ и для него выпишем интересующее нас свойство $\\left[D_{x_0}(u \\circ v)\\right](h)=\\left[D_{v\\left(x_0\\right)} u\\right]\\left(\\left[D_{x_0} v\\right](h)\\right)$. С помощью свойства найдем градиенты для слоя BN $( \\nabla_{\\gamma} \\mathcal{L}$, $\\nabla_{\\delta} \\mathcal{L} )$\n",
    "\n",
    "\n",
    "$$\n",
    "  \\begin{equation*}\n",
    "    \\left\\{\n",
    "      \\begin{aligned}\n",
    "        & \\left \\langle \\nabla_{\\gamma} \\mathcal{L}, \\: h \\right \\rangle= \\left \\langle \\nabla_{\\gamma} \\mathcal{L}(y(\\gamma, \\delta, X)), \\: h \\right \\rangle= \\left[ \\nabla_{y} \\mathcal{L} \\right] \\left( \\nabla_{\\gamma} y \\, d\\gamma \\right) = \\left \\langle \\nabla_{y} \\mathcal{L}, \\: \\nabla_{\\gamma} y \\, d\\gamma \\right \\rangle = \\left \\langle \\nabla_{\\gamma}^\\intercal y \\, \\nabla_{y} \\mathcal{L}, \\: d \\, \\gamma \\right \\rangle \\\\\n",
    "\n",
    "        & \\left \\langle \\nabla_{\\delta} \\mathcal{L}, \\: h \\right \\rangle= \\, \\left \\langle \\nabla_{\\delta} \\mathcal{L}(y(\\gamma, \\delta, X)), \\: h \\right \\rangle= \\left[ \\nabla_{y} \\mathcal{L} \\right] \\left( \\nabla_{\\delta} y \\, d\\delta \\right) \\, = \\left \\langle \\nabla_{y} \\mathcal{L}, \\: \\nabla_{\\delta} y \\, d\\delta \\right \\rangle \\, = \\left \\langle \\nabla_{\\delta}^\\intercal y \\, \\nabla_{y} \\mathcal{L}, \\: d \\, \\delta \\right \\rangle\n",
    "      \\end{aligned}\n",
    "    \\right.\n",
    "  \\end{equation*}\n",
    "\n",
    "  \\Longrightarrow \n",
    "\n",
    "  \\begin{equation*}\n",
    "    \\left\\{\n",
    "      \\begin{aligned}\n",
    "        & \\nabla_{\\gamma} \\mathcal{L} = \\nabla_{\\gamma}^\\intercal y \\, \\nabla_{y} \\mathcal{L} = \\tilde{y}^\\intercal \\, \\nabla_{y} \\mathcal{L} \\\\\n",
    "        & \\nabla_{\\delta} \\mathcal{L} \\, = \\nabla_{\\delta}^\\intercal y \\, \\nabla_{y} \\mathcal{L} = \\sum^n_{i=1} \\nabla_{y}^i \\mathcal{L}\n",
    "      \\end{aligned}\n",
    "    \\right.\n",
    "  \\end{equation*}\n",
    "$$\n",
    "\n",
    "Легко заметить, что, например, формула для $\\nabla_{\\gamma} \\mathcal{L}$ совпадает с аналитической формулой поэлементного дифференцирования фектора: $\\left \\{ \\frac{\\partial \\mathcal{L}}{\\partial y_1} \\frac{\\partial y_1}{\\partial \\gamma} \\: \\dotsi \\frac{\\partial \\mathcal{L}}{\\partial y_k} \\frac{\\partial y_k}{\\partial \\gamma} \\right \\}$\n",
    "\n",
    "Однако таким образом дифференцирование может быть слишком кропотливой и долгой задачей для сильно вложенных композиций функций. Потому решим задачу общим способом через дифференциалы, воспользовавшись инвариантностью формы перого дифференциала функции:\n",
    "\n",
    "$$\n",
    "  \\begin{equation*}\n",
    "    \\left\\{\n",
    "      \\begin{aligned}\n",
    "      & d \\mathcal{L} = \\left \\langle \\nabla_y \\mathcal{L}, dy \\right \\rangle \\\\\n",
    "\n",
    "      & d \\mathcal{L} = \\left \\langle \\nabla_\\gamma \\mathcal{L}, d \\gamma \\right \\rangle + \\left \\langle \\nabla_{\\tilde{y}} \\mathcal{L}, d \\tilde{y} \\right \\rangle + \\left \\langle \\nabla_\\delta \\mathcal{L}, d \\delta \\right \\rangle \\\\\n",
    "\n",
    "      & d y = \\tilde{y} d \\gamma + \\gamma d \\tilde{y} + \\mathbb{I} d \\delta\n",
    "      \\end{aligned}\n",
    "    \\right.\n",
    "  \\end{equation*}\n",
    "\n",
    "  \\Longrightarrow \n",
    "\n",
    "  \\left \\langle \\nabla_y \\mathcal{L}, \\tilde{y} d \\gamma + \\gamma d \\tilde{y} + \\mathbb{I} d \\delta \\right \\rangle = \\left \\langle \\nabla_\\gamma \\mathcal{L}, d \\gamma \\right \\rangle + \\left \\langle \\nabla_{\\tilde{y}} \\mathcal{L}, d \\tilde{y} \\right \\rangle + \\left \\langle \\nabla_\\delta \\mathcal{L}, \\mathbb{I} d \\delta \\right \\rangle\n",
    "\n",
    "  \\Longrightarrow \n",
    "\n",
    "  \\begin{equation*}\n",
    "    \\left\\{\n",
    "      \\begin{aligned}\n",
    "      & \\nabla_{\\gamma} \\mathcal{L} = \\tilde{y}^\\intercal \\, \\nabla_{y} \\mathcal{L} \\\\\n",
    "\n",
    "      & \\nabla_{\\delta} \\mathcal{L} = \\mathbb{I}^\\intercal \\nabla_{y} \\mathcal{L} \\\\\n",
    "\n",
    "      & \\nabla_{\\tilde{y}} \\mathcal{L} = \\gamma \\nabla_{y} \\mathcal{L}\n",
    "      \\end{aligned}\n",
    "    \\right.\n",
    "  \\end{equation*}\n",
    "$$\n",
    "\n",
    "Видно, что мы вывели те же самые формулы для дифференциалов слоя BN, полученные нами ранее через явное свойство дифференцирования сложных функций. Осталось же найти дифференциал по входу функции. Для этого распространим дифференциал с $\\nabla_{\\tilde{y}} \\mathcal{L}$ далее на входы $X$\n",
    "\n",
    "$$d \\mathcal{L} = \\left \\langle \\nabla_X \\mathcal{L}, \\, d X \\right \\rangle = \\left \\langle \\nabla_{\\tilde{y}} \\mathcal{L}, \\, d \\tilde{y} \\right \\rangle ; \\; \\; \\; \n",
    "    y = \\frac{X - \\mathbb{I} \\mu}{\\sqrt{\\sigma^2 + \\varepsilon}} ; \\; \\; \\;\n",
    "    \\mu = \\frac{1}{n} \\mathbb{I} ^ \\intercal X; \\; \\; \\;\n",
    "    \\sigma^2 = \\frac{1}{n} \\left \\langle X, X \\right \\rangle - (2 - \\frac{1}{n}) \\mu ^ 2$$\n",
    "\n",
    "$$\n",
    "  \\begin{equation*}\n",
    "    \\left\\{\n",
    "      \\begin{aligned}\n",
    "      & d \\mu = d \\left ( \\frac{1}{n} \\mathbb{I} ^ \\intercal X \\right) = \\frac{1}{n} \\mathbb{I} ^ \\intercal d X \\\\\n",
    "      \n",
    "      & d \\sigma ^ 2 = d \\left (\\frac{1}{n} \\left \\langle X, X \\right \\rangle - \\frac{1}{n}(2 - \\frac{1}{n}) \\mu ^ 2 \\right) = \n",
    "        \\frac{1}{n} \\left \\langle \\left ( E + E^\\intercal \\right) X, d X \\right \\rangle - \\mu (\\frac{4}{n} - \\frac{2}{n^2}) \\mathbb{I} ^ \\intercal d X =\n",
    "        \\frac{2}{n} X ^ \\intercal d X  - \\mu (\\frac{4}{n} - \\frac{2}{n^2}) \\mathbb{I} ^ \\intercal d X\\\\\n",
    "\n",
    "      & d \\tilde{y} = \\frac{\\left ( E \\, d X - \\mathbb{I} d \\mu \\right)}{\\sqrt{\\sigma^2 + \\varepsilon}} - \n",
    "        \\left ( X - \\mathbb{I} \\mu \\right) \\frac{d \\sigma^2}{2 (\\sqrt{\\sigma^2 + \\varepsilon}) ^ 3} = \n",
    "\n",
    "        \\left (\\frac{E - \\frac{1}{n} \\mathbb{I} \\, \\mathbb{I}^\\intercal}{\\sqrt{\\sigma ^ 2 + \\varepsilon}} - \n",
    "        \\left ( X - \\mathbb{I} \\mu \\right) \\frac{\\frac{1}{n} X^\\intercal - \\mu \\left( \\frac{2}{n} - \\frac{1}{n^2} \\right) \\mathbb{I} ^ \\intercal}{(\\sqrt{\\sigma^2 + \\varepsilon}) ^ 3} \\right ) d X = W \\, d X\n",
    "      \\end{aligned}\n",
    "    \\right.\n",
    "  \\end{equation*}\n",
    "$$\n",
    "\n",
    "$\\Rightarrow \\nabla_X \\mathcal{L} = W^\\intercal \\nabla_{\\tilde{y}} \\mathcal{L} = \\gamma \\left (\\frac{E - \\frac{1}{n} \\mathbb{I} \\, \\mathbb{I}^\\intercal}{\\sqrt{\\sigma ^ 2 + \\varepsilon}} - \\left ( X - \\mathbb{I} \\mu \\right) \\frac{\\frac{1}{n} X^\\intercal - \\mu \\left( \\frac{2}{n} - \\frac{1}{n^2} \\right) \\mathbb{I} ^ \\intercal}{(\\sqrt{\\sigma^2 + \\varepsilon}) ^ 3} \\right ) \\nabla_{\\tilde{y}} \\mathcal{L}$\n",
    "\n",
    "\n",
    "__Ответ:__\n",
    "\n",
    "1. $\\nabla_{\\gamma} \\mathcal{L} = \\tilde{y}^\\intercal \\, \\nabla_{y} \\mathcal{L}$\n",
    "\n",
    "2. $\\nabla_{\\delta} \\mathcal{L} = \\mathbb{I}^\\intercal \\nabla_{y} \\mathcal{L}$\n",
    "\n",
    "3. $\\nabla_X \\mathcal{L} = \\gamma \\left (\\frac{E - \\frac{1}{n} \\mathbb{I} \\, \\mathbb{I}^\\intercal}{\\sqrt{\\sigma ^ 2 + \\varepsilon}} - \\left ( X - \\mathbb{I} \\mu \\right) \\frac{\\frac{1}{n} X^\\intercal - \\mu \\left( \\frac{2}{n} - \\frac{1}{n^2} \\right) \\mathbb{I} ^ \\intercal}{(\\sqrt{\\sigma^2 + \\varepsilon}) ^ 3} \\right ) \\nabla_{\\tilde{y}} \\mathcal{L}$\n",
    "\n",
    "---"
   ]
  },
  {
   "cell_type": "markdown",
   "metadata": {},
   "source": [
    "### `Задание 2. Вывод инициализации весов линейного слоя при использовании ReLU в качестве функции активации (1 балл)`"
   ]
  },
  {
   "cell_type": "markdown",
   "metadata": {},
   "source": [
    "Рассмотрим полносвязную нейронную сеть с функцией активации $g(y)$. Пусть сеть состоит из $L$ слоев и размер входа слоя $l$ равен $n_l\\ \\ (l = \\overline{1, L})$.\n",
    "\n",
    "Обозначим за $x^l \\in \\mathbb{R}^{n_{l}}$ вход слоя $l$, за $y^l \\in \\mathbb{R}^{n_{l+1}}$ — выход слоя $l$, за $W^l \\in \\mathbb{R}^{n_{l+1} \\times n_{l}}$ — веса слоя $l$, за $b^l \\in \\mathbb{R}^{n_{l+1}}$ — вектор сдвига слоя $l$.\n",
    "\n",
    "Тогда\n",
    "$$y^l = W^l x^l + b^l,$$\n",
    "$$x^{l+1} = g(y^l).$$\n",
    "\n",
    "На паре вы выводили хорошую инициализацию для линейного слоя в случае, когда в качестве функции активации $g(y)$ в нейронной сети используется гиперболический тангенс $g(y) = \\tanh(y)$. Сейчас вам нужно сделать подобный вывод для случая, когда в сети в качестве функций активации используется $g(y) = ReLU(y) = \\max(0, y)$.\n",
    "\n",
    "Сделаем следующие предположения насчет того, как распределены веса $W^l$, вектор сдвига $b^l$, входной вектор $x^l$, выходной вектор $y^l$ линейного слоя и градиенты функции потерь $\\frac{\\partial L}{\\partial y^{l}}$ $(l = \\overline{1, L}$):\n",
    "\n",
    "1. Все компоненты в $W^l$ распределены одинаково и независимо друг от друга;\n",
    "2. Все компоненты в $y^l$ распределены одинаково и независимо друг от друга;\n",
    "3. Все компоненты в $x^l$ распределены одинаково и независимо друг от друга;\n",
    "4. Все компоненты в $\\frac{\\partial L}{\\partial y^{l}}$ распределены одинаково и независимо друг от друга;\n",
    "5. Все компоненты в $W^l$ и все компоненты в $x^l$ независимы друг от друга;\n",
    "6. Все компоненты в $W^l$ имеют четную плотность распределения (то есть симметричную относительно нуля: $p_{W^l}(-x) = p_{W^l}(x)$);\n",
    "7. Все компоненты в $W^l$ имеют конечное матожидание;\n",
    "8. Вектор $b^l$ инициализирован нулями.\n",
    "\n",
    "\n",
    "Подсказки:\n",
    "1. Из пунктов 6 и 7 следует, что все компоненты в $W^l$ имеют нулевое среднее ($\\mathbb{E} W^l_{ij} = 0\\ \\ \\forall i = \\overline{1, n_{l+1}}, j = \\overline{1, n_{l}}$) (докажите);\n",
    "2. Из пунктов 6 и 7 следует, что все компоненты в $y^l$ имеют нулевое среднее и четную плотность распределения (докажите)."
   ]
  },
  {
   "cell_type": "markdown",
   "metadata": {},
   "source": [
    "__Ваше решение:__\n",
    "\n",
    "---\n",
    "\n",
    "Докажем пункты подсказок:\n",
    "- $\\exists \\mathbb{E} W_{ij}^l \\, \\Rightarrow \\exists  \\int_{-\\infty}^{\\infty} p(x) dx = \\int_{0}^{\\infty} p(x) dx + \\int_{-\\infty}^{0} p(x) dx = \\int_{0}^{\\infty} p(x) dx - \\int^{\\infty}_{0} p(-x) dx = \\text{условие четноси плотности} = \\int_{0}^{\\infty} p(x) dx - \\int^{\\infty}_{0} p(x) dx \\equiv 0 $\n",
    "- Для произвольного $y_{i}^l$ справедливо представление: $\\sum_{j = 1}^{n_l} w_{ij}^l x^l_j + b_i^l$ - считая, что все значения $w_{ij}^l$ пришли из распределений с нулевым мат. ожиданием и четной плотностью распределения, то используя линейность оператора взятия мат. ожидания и равенства нулю все $b_i^l$, раскрыв все x^l_j по формулам, как они получаются из y_j^{l-1}, найдем, что $\\mathbb{E}y_{i}^l = 0$, из этого же следует и четность $\\frac{\\partial}{\\partial x} \\mathbb{P}(y_{i}^l < x)$\n",
    "\n",
    "---\n",
    "\n",
    "Перейдем к анализу способа инициализации:\n",
    "Обозначим цель поиска специальных средств инициализации весов: мы хотим обеспечить отсутсвие затухания или сильных всколыханий градиента в процессе обучения модели. Потому требуется, чтобы активационная способность всех слоев была одинаковой и в среднем реакция всех слоев к объектам оставалсь одинаковой. Потому выражаются требования:\n",
    "\n",
    "1.  $\\mathbb{E} y^l = \\mathbb{E} y^{l=1};  \\; \\; \\mathbb{D} y^l = \\mathbb{D} y^{l+1}$\n",
    "2.  $\\mathbb{E} \\delta^l = \\mathbb{E} \\! \\; \\delta^{l=1}; \\; \\; \\mathbb{D} \\delta^l = \\mathbb{D} \\delta^{l+1}$\n",
    "\n",
    "Посмотрим на прямой проход по сети:\n",
    "\n",
    "$$\\mathbb{D} y^l_i = \\mathbb{D} \\sum\\limits_{j = 1}^{n_l}W_{ij}^l x^l_j = \\{\\text{из независимости $W_{ij}^l$ и $x^l$}\\} = \\sum\\limits_{j = 1}^{n_l} \\mathbb{D} W_{ij}^l  \\mathbb{D} x^l_j = n_l \\mathbb{D} W^l \\mathbb{D} x^l, \\; \\text{обозначив через переменные без индексов общий вид переменных по слою}$$\n",
    "\n",
    "Теперь обратимся к общему виду $x^l$ зная, что для его получения используется функция активации ReLU: $x^{l+1} = ReLU(y^l) = ReLU(W^l x^l + b^l) = (W^l x^l + b^l)^+$. Подставляя данную формулу в полученное ранее уравнение для дисперсии $\\mathbb{D} y^l_i = n_l \\mathbb{D} W^l \\mathbb{D} \\, ReLU(y^{l-1}) = n_l \\mathbb{D} W^l \\mathbb{D} (y^{l-1})^+$, видим, что нам необходимо рассматривать не изначальные СВ $y^{l-1}$, а величины их положительных срезок. Сделать это мы можем, так как функция $max(0, x)$ есть измеримая относительно измеримого пространства $(\\mathbb{R}, \\mathcal{B})$ отображение, а значит и $max(0, \\xi), \\; \\text{где} \\; \\xi \\; \\text{так же является СВ - является случайной величиной над изначальным вероятностным пространством}$. Найдем дисперсию $\\mathbb{D} (y^{l-1})^+$.\n",
    "\n",
    "$$ \\mathbb{D} (y^l)^+ = \\mathbb{E} ((y^l)^+)^2 - \\left( \\mathbb{E} (y^l)^+ \\right)^2, \\text{положим, что} \\; y^l \\; \\text{пришло из абсолютно непрерывного распределения. Тогда} \\; \n",
    "\\begin{equation*}\n",
    "    \\left\\{\n",
    "      \\begin{aligned}\n",
    "\n",
    "        & \\mathbb{E} ((y^l)^+)^2 = \\int\\limits_{-\\infty}^{\\infty} (y^l)^2 p_{(y^l)^+}(x) dx = \\int\\limits_{0}^{\\infty} (y^l)^2 p_{y^l}(x) dx = \\frac{1}{2} \\mathbb{E} (y^l)^2 \\\\\n",
    "\n",
    "        & \\mathbb{E} (y^l)^+ = \\int\\limits_{-\\infty}^{\\infty} (y^l)^+ p_{(y^l)^+}(x) dx = \\int\\limits_{0}^{\\infty} y^l p_{y^l}(x) dx\n",
    "\n",
    "        \\end{aligned}\n",
    "    \\right.\n",
    "\\end{equation*}\n",
    "\n",
    "$$\n",
    "\n",
    "---\n",
    "\n"
   ]
  },
  {
   "cell_type": "markdown",
   "metadata": {},
   "source": [
    "### `Задание 3. Почему функция активации` $ReLU(y) = \\max(0, y)$ `предпочтительней сигмоиды` $\\sigma(y) = \\frac{1}{1 + \\exp(-y)}$ `в нейронных сетях? (0.5 балла)`"
   ]
  },
  {
   "cell_type": "markdown",
   "metadata": {},
   "source": [
    "Дайте развернутый ответ на вопрос \"Почему функция активации $ReLU(y) = \\max(0, y)$ предпочтительней сигмоиды $\\sigma(y) = \\frac{1}{1 + \\exp(-y)}$ в нейронных сетях?\""
   ]
  },
  {
   "cell_type": "markdown",
   "metadata": {},
   "source": [
    "__Ваш ответ:__\n",
    "\n",
    "Функция активации $ReLU$ обладает рядом положительных качеств, по сравнению с сигмоидальной функцией. Перове, что хочется упомянуть, это расходы на вычисление функции активации на каждом входе: если вычислительная сложность ReLU складывается лишь из операциии ветвления, то для вычисления сигмоидальной функции требуется провести вычисление экспоненты и плюс деления 1 на результат. То же самое можно сказать и о вычислении производной. Разница в закладываемых ресурсах с ростом сети колосальна. При этом сигмоидальная функция ограничивает значения параметров на сегменте $[0; 1]$ для $x \\in \\mathbb{R}$. Такое поведение может показаться крайне полензным, однако из самой формы сигмоиды исходит и главнейшая проблема: затухание градиента. Производная функйции сигмоиды ограничена на $\\mathbb{R}$ и при этом быстро стремится к нулю при $x \\rightarrow \\pm \\infty$, из-за чего градиент быстро стремится к нулю с ростом слоев от выхода нейросети."
   ]
  },
  {
   "cell_type": "markdown",
   "metadata": {
    "heading_collapsed": true
   },
   "source": [
    "## `Практическая часть (7 баллов)`"
   ]
  },
  {
   "cell_type": "markdown",
   "metadata": {
    "heading_collapsed": true,
    "hidden": true
   },
   "source": [
    "### `Реализация нейронной сети (3 балла)`"
   ]
  },
  {
   "cell_type": "markdown",
   "metadata": {
    "hidden": true
   },
   "source": [
    "В этом задании вы обучите полносвязную нейронную сеть распознавать рукописные цифры (а что же еще, если не их :), [почти] самостоятельно реализовав все составляющие алгоритма обучения и предсказания.\n",
    "\n",
    "Для начала нам понадобится реализовать прямой и обратный проход через слои. Наши слои будут соответствовать следующему интерфейсу (на примере \"тождественного\" слоя):"
   ]
  },
  {
   "cell_type": "code",
   "execution_count": 2,
   "metadata": {
    "ExecuteTime": {
     "end_time": "2021-03-03T14:44:48.924967Z",
     "start_time": "2021-03-03T14:44:48.912996Z"
    },
    "hidden": true
   },
   "outputs": [],
   "source": [
    "class IdentityLayer:\n",
    "    \"\"\"\n",
    "    A building block. Each layer is capable of performing two things:\n",
    "\n",
    "    - Process input to get output:           \n",
    "    output = layer.forward(input)\n",
    "\n",
    "    - Propagate gradients through itself:    \n",
    "    grad_input = layer.backward(input, grad_output)\n",
    "\n",
    "    Some layers also have learnable parameters.\n",
    "\n",
    "    Modified code from cs.hse DL course *\n",
    "    \"\"\"\n",
    "\n",
    "    def __init__(self):\n",
    "        \"\"\"\n",
    "        Here you can initialize layer parameters (if any) \n",
    "        and auxiliary stuff. You should enumerate all parameters\n",
    "        in self.params\n",
    "        \"\"\"\n",
    "        # An identity layer does nothing\n",
    "        self.params = []\n",
    "        pass\n",
    "\n",
    "    def forward(self, input):\n",
    "        \"\"\"\n",
    "        Takes input data of shape [batch, input_units], \n",
    "        returns output data [batch, output_units]\n",
    "        \"\"\"\n",
    "        # An identity layer just returns whatever it gets as input.\n",
    "        self.input = input\n",
    "        return input\n",
    "\n",
    "    def backward(self, grad_output):\n",
    "        \"\"\"\n",
    "        Performs a backpropagation step through the layer, \n",
    "        with respect to the given input.\n",
    "\n",
    "        To compute loss gradients w.r.t input, \n",
    "        you need to apply chain rule (backprop):\n",
    "\n",
    "        d `loss` / d `input` = (d `loss` / d `layer`) * (d `layer` / d `input`)\n",
    "\n",
    "        Luckily, you already receive d `loss` / d `layer` in argument, \n",
    "        so you only need to multiply it by d `layer` / d `input`.\n",
    "\n",
    "        NB: Sometimes d `layer` / d `input` can be a 3D or even 4D tensor.\n",
    "        So it's better to write down the `loss` differential and extract\n",
    "        d `layer` / d `input` from it so that only 2D tensors were present.\n",
    "\n",
    "        The method returns:\n",
    "        * gradient w.r.t input (will be passed to \n",
    "          previous layer's backward method)\n",
    "        * flattened gradient w.r.t. parameters (with .ravel() \n",
    "          applied to each gradient). \n",
    "          If there are no params, return []\n",
    "        \"\"\"\n",
    "        # The gradient of an identity layer is precisely grad_output\n",
    "        input_dim = self.input.shape[1]\n",
    "\n",
    "        d_layer_d_input = np.eye(input_dim)\n",
    "\n",
    "        return np.dot(grad_output, d_layer_d_input), []  # chain rule"
   ]
  },
  {
   "cell_type": "markdown",
   "metadata": {
    "heading_collapsed": true,
    "hidden": true
   },
   "source": [
    "#### `Слой нелинейности ReLU`"
   ]
  },
  {
   "cell_type": "markdown",
   "metadata": {
    "hidden": true
   },
   "source": [
    "Для начала реализуем слой нелинейности $ReLU(y) = \\max(0, y)$. Параметров у слоя нет. Метод `forward` должен вернуть результат поэлементного применения $ReLU$ к входному массиву, метод `backward` — градиент функции потерь по входу слоя. В нуле будем считать производную равной 0. Обратите внимание, что при обратном проходе могут понадобиться величины, посчитанные во время прямого прохода, поэтому их стоит сохранить как атрибут класса."
   ]
  },
  {
   "cell_type": "code",
   "execution_count": 320,
   "metadata": {
    "ExecuteTime": {
     "end_time": "2021-03-03T14:44:48.939926Z",
     "start_time": "2021-03-03T14:44:48.928957Z"
    },
    "hidden": true
   },
   "outputs": [],
   "source": [
    "class ReLU:\n",
    "    \"\"\"\n",
    "    Modified code from cs.hse DL course *\n",
    "    \"\"\"\n",
    "\n",
    "    def __ReLU(self, c):\n",
    "        return lambda x: x if x > 0 else c\n",
    "\n",
    "    def __RelU_grad(self, c):\n",
    "        return lambda x: 1 if x > 0 else c\n",
    "\n",
    "    def __init__(self, leaky=None):\n",
    "        \"\"\"ReLU layer simply applies elementwise rectified linear unit to all inputs\"\"\"\n",
    "        self.params = []  # ReLU has no parameters\n",
    "\n",
    "        self.relu = vectorize(self.__ReLU(\n",
    "            leaky if leaky is not None else 0), otypes=[np.float32])\n",
    "        self.relu_grad = vectorize(self.__RelU_grad(\n",
    "            leaky if leaky is not None else 0), otypes=[np.float32])\n",
    "\n",
    "    def forward(self, input):\n",
    "        \"\"\"Apply elementwise ReLU to [batch, num_units] matrix\"\"\"\n",
    "        # your code here\n",
    "        self.input = input\n",
    "        return self.relu(input)\n",
    "\n",
    "    def backward(self, grad_output):\n",
    "        \"\"\"Compute gradient of loss w.r.t. ReLU input\n",
    "        grad_output shape: [batch, num_units]\n",
    "        output 1 shape: [batch, num_units]\n",
    "        output 2: []\n",
    "        \"\"\"\n",
    "        # your code here\n",
    "        layer_grad = self.relu_grad(self.input)\n",
    "        return layer_grad * grad_output, []\n",
    "\n",
    "    def __repr__(self):\n",
    "        return 'Relu()'"
   ]
  },
  {
   "cell_type": "markdown",
   "metadata": {
    "heading_collapsed": true,
    "hidden": true
   },
   "source": [
    "#### `Полносвязный слой`"
   ]
  },
  {
   "cell_type": "markdown",
   "metadata": {
    "hidden": true
   },
   "source": [
    "Далее реализуем полносвязный слой без нелинейности. У слоя два параметра: матрица весов и вектор сдвига.\n",
    "\n",
    "Обратите внимание на второй аргумент: в нем надо возвращать градиент по всем параметрам в одномерном виде. Для этого надо сначала применить `.ravel()` ко всем градиентам, а затем воспользоваться `np.r_`:"
   ]
  },
  {
   "cell_type": "code",
   "execution_count": 121,
   "metadata": {
    "ExecuteTime": {
     "end_time": "2021-03-03T14:44:48.971838Z",
     "start_time": "2021-03-03T14:44:48.943913Z"
    },
    "hidden": true
   },
   "outputs": [
    {
     "data": {
      "text/plain": [
       "array([1., 0., 0., 0., 1., 0., 0., 0., 1., 0., 1., 2., 3.])"
      ]
     },
     "execution_count": 121,
     "metadata": {},
     "output_type": "execute_result"
    }
   ],
   "source": [
    "# example\n",
    "np.r_[np.eye(3).ravel(), np.arange(4)]"
   ]
  },
  {
   "cell_type": "code",
   "execution_count": 120,
   "metadata": {},
   "outputs": [
    {
     "data": {
      "text/plain": [
       "array([[ 0.03562097, -1.8288803 ,  1.00096229,  0.77431848],\n",
       "       [-0.03081312,  0.01410933,  1.36553788, -0.96858833],\n",
       "       [ 0.65188578,  0.08472743,  0.55946508,  0.21624476]])"
      ]
     },
     "execution_count": 120,
     "metadata": {},
     "output_type": "execute_result"
    }
   ],
   "source": [
    "np.random.randn(3, 4)"
   ]
  },
  {
   "cell_type": "code",
   "execution_count": 389,
   "metadata": {
    "ExecuteTime": {
     "end_time": "2021-03-03T14:44:48.987794Z",
     "start_time": "2021-03-03T14:44:48.975827Z"
    },
    "hidden": true
   },
   "outputs": [],
   "source": [
    "class Dense:\n",
    "    \"\"\"\n",
    "    Modified code from cs.hse DL course *\n",
    "    \"\"\"\n",
    "\n",
    "    def __init__(self, input_units, output_units):\n",
    "        \"\"\"\n",
    "        A dense layer is a layer which performs a learned affine transformation:\n",
    "        f(x) = x W + b\n",
    "        \"\"\"\n",
    "        # initialize weights with small random numbers from normal distribution\n",
    "        self.weights = np.random.randn(input_units, output_units) * 0.01\n",
    "        self.biases = np.zeros(output_units)\n",
    "        self.params = [self.weights, self.biases]\n",
    "\n",
    "    def forward(self, input):\n",
    "        \"\"\"\n",
    "        Perform an affine transformation:\n",
    "        f(x) = x W + b\n",
    "\n",
    "        input shape: [batch, input_units]\n",
    "        output shape: [batch, output units]\n",
    "        \"\"\"\n",
    "        # your code here\n",
    "        self.input = input\n",
    "        return input @ self.weights + self.biases\n",
    "\n",
    "    def backward(self, grad_output):\n",
    "        \"\"\"\n",
    "        compute gradients\n",
    "        grad_output shape: [batch, output_units]\n",
    "        output shapes: [batch, input_units], [num_params]\n",
    "\n",
    "        hint: use function np.r_\n",
    "        np.r_[np.arange(3), np.arange(3)] = [0, 1, 2, 0, 1, 2]\n",
    "        \"\"\"\n",
    "        # your code here\n",
    "\n",
    "        layer_grad_weights = self.input.T @ grad_output\n",
    "        layer_grad_bias = np.sum(grad_output, axis=0)\n",
    "        back_grad_output = grad_output @ self.weights.T\n",
    "\n",
    "        return back_grad_output, np.r_[layer_grad_weights.ravel(), layer_grad_bias.ravel()]\n",
    "\n",
    "    def __repr__(self):\n",
    "        return f'Dense({self.weights.shape[0]}, {self.weights.shape[1]})'"
   ]
  },
  {
   "cell_type": "markdown",
   "metadata": {
    "heading_collapsed": true,
    "hidden": true
   },
   "source": [
    "#### `Проверка градиента`"
   ]
  },
  {
   "cell_type": "markdown",
   "metadata": {
    "hidden": true
   },
   "source": [
    "Проверим правильность реализации с помощью функции численной проверки градиента. Функция `eval_numerical_gradient` принимает на вход callable объект `f` (функцию от одного аргумента-матрицы) и аргумент `x` и вычисляет приближенный градиент функции `f` в точке `x`."
   ]
  },
  {
   "cell_type": "code",
   "execution_count": 99,
   "metadata": {
    "ExecuteTime": {
     "end_time": "2021-03-03T14:44:49.003751Z",
     "start_time": "2021-03-03T14:44:48.990787Z"
    },
    "hidden": true
   },
   "outputs": [],
   "source": [
    "def eval_numerical_gradient(f, x, verbose=False, h=0.00001):\n",
    "    \"\"\"\n",
    "    Evaluates gradient df/dx via finite differences:\n",
    "    df/dx ~ (f(x+h) - f(x-h)) / 2h\n",
    "    Adopted from https://github.com/ddtm/dl-course/\n",
    "    \"\"\"\n",
    "    fx = f(x)  # evaluate function value at original point\n",
    "    grad = np.zeros_like(x)\n",
    "    # iterate over all indexes in x\n",
    "    it = np.nditer(x, flags=['multi_index'], op_flags=['readwrite'])\n",
    "    while not it.finished:\n",
    "\n",
    "        # evaluate function at x+h\n",
    "        ix = it.multi_index\n",
    "        oldval = x[ix]\n",
    "        x[ix] = oldval + h  # increment by h\n",
    "        fxph = f(x)  # evalute f(x + h)\n",
    "        x[ix] = oldval - h\n",
    "        fxmh = f(x)  # evaluate f(x - h)\n",
    "        x[ix] = oldval  # restore\n",
    "\n",
    "        # compute the partial derivative with centered formula\n",
    "        grad[ix] = (fxph - fxmh) / (2 * h)  # the slope\n",
    "        # if verbose:\n",
    "        #     print(ix, grad[ix])\n",
    "        it.iternext()  # step to next dimension\n",
    "\n",
    "    return grad"
   ]
  },
  {
   "cell_type": "markdown",
   "metadata": {},
   "source": [
    "Вычислите аналитический и численный градиенты по входу слоя ReLU от функции\n",
    "$$ f(y) = \\sum_i y_i, \\quad y = ReLU(x) $$\n",
    "\n",
    "Выпишите аналитический градиент в этой ячейке:\n",
    "\n",
    "$$\\frac{\\partial}{\\partial x_{ij}} f(y) = \\begin{equation*}\n",
    "    \\left\\{\n",
    "      \\begin{aligned}\n",
    "      & 0, x_{ij} \\leq 0 \\\\\n",
    "      & 1, x_{ij} \\gt 0\n",
    "      \\end{aligned}\n",
    "    \\right.\n",
    "  \\end{equation*}\n",
    "  $$"
   ]
  },
  {
   "cell_type": "markdown",
   "metadata": {
    "hidden": true
   },
   "source": [
    "Следующая ячейка после заполнения должна не выдавать ошибку :)"
   ]
  },
  {
   "cell_type": "code",
   "execution_count": null,
   "metadata": {
    "ExecuteTime": {
     "end_time": "2021-03-03T14:44:49.034673Z",
     "start_time": "2021-03-03T14:44:49.006744Z"
    },
    "hidden": true
   },
   "outputs": [],
   "source": [
    "relu = ReLU()\n",
    "points = np.linspace(-1, 1, 10*12).reshape([10, 12])\n",
    "\n",
    "# your code here\n",
    "\n",
    "\n",
    "def SumReLU(x):\n",
    "    # ic(relu.forward(x))\n",
    "    return np.sum(relu.forward(x))\n",
    "\n",
    "\n",
    "# analitical grad\n",
    "relu.forward(points)\n",
    "grads = relu.backward(np.ones_like(points))[0]\n",
    "\n",
    "# numerical grad\n",
    "numeric_grads = np.ndarray(points.shape)\n",
    "for i in range(points.shape[0]):\n",
    "    numeric_grads[i, :] = eval_numerical_gradient(\n",
    "        SumReLU, points[i, :], verbose=False)\n",
    "\n",
    "ic(numeric_grads, grads, points)\n",
    "\n",
    "assert np.allclose(grads, numeric_grads, rtol=1e-3, atol=0)"
   ]
  },
  {
   "cell_type": "markdown",
   "metadata": {
    "hidden": true
   },
   "source": [
    "Вычислите аналитический и численный градиенты по входу полносвязного слоя от функции\n",
    "$$ f(y) = \\sum_i y_i, \\quad y = W x + b $$\n",
    "\n",
    "Выпишите аналитический градиент в этой ячейке (советуем выписать градиент через дифференциал функции $f$):\n",
    "\n",
    "$$\\left \\langle \\nabla_y \\mathcal{L}, d y \\right \\rangle = \\left \\langle \\nabla_W \\mathcal{L}, d W \\right \\rangle + \\left \\langle \\nabla_b \\mathcal{L}, d b \\right \\rangle$$\n",
    "\n",
    "$$ \n",
    "  dy = d \\left ( Wx + b \\right ) = d W x + W d x + d b \\Longrightarrow \n",
    "\n",
    "  \\begin{equation*}\n",
    "    \\left\\{\n",
    "      \\begin{aligned}\n",
    "      & \\left \\langle \\nabla_y \\mathcal{L}, d W x \\right \\rangle = \\left \\langle \\nabla_y \\mathcal{L} x^\\intercal, d W \\right \\rangle \\\\\n",
    "      & \\left \\langle \\nabla_y \\mathcal{L}, W dx \\right \\rangle = \\left \\langle W^\\intercal \\nabla_y \\mathcal{L}, d x \\right \\rangle \\\\\n",
    "      & \\left \\langle \\nabla_y \\mathcal{L}, d b \\right \\rangle \n",
    "      \\end{aligned}\n",
    "    \\right.\n",
    "  \\end{equation*}\n",
    "\n",
    "  \\Longrightarrow \n",
    "\n",
    "  \\begin{equation*}\n",
    "    \\left\\{\n",
    "      \\begin{aligned}\n",
    "      & \\nabla_W \\mathcal{L} = \\nabla_y \\mathcal{L} x^\\intercal \\\\\n",
    "      & \\nabla_x \\mathcal{L} = W^\\intercal \\nabla_y \\mathcal{L} \\\\\n",
    "      & \\nabla_b \\mathcal{L} = \\nabla_y \\mathcal{L}\n",
    "      \\end{aligned}\n",
    "    \\right.\n",
    "  \\end{equation*}\n",
    "$$"
   ]
  },
  {
   "cell_type": "markdown",
   "metadata": {
    "hidden": true
   },
   "source": [
    "Следующая ячейка после заполнения должна не выдавать ошибку :)"
   ]
  },
  {
   "cell_type": "code",
   "execution_count": 380,
   "metadata": {
    "ExecuteTime": {
     "end_time": "2021-03-03T14:44:49.066624Z",
     "start_time": "2021-03-03T14:44:49.041651Z"
    },
    "hidden": true
   },
   "outputs": [],
   "source": [
    "linear = Dense(12, 32)\n",
    "points = np.linspace(-1, 1, 10*12).reshape([10, 12])\n",
    "\n",
    "# your code here\n",
    "\n",
    "\n",
    "def SumGradWeights(x):\n",
    "    return np.sum(linear.forward(x))\n",
    "\n",
    "\n",
    "# analitical grad\n",
    "linear.forward(points)\n",
    "grads, t = linear.backward(np.ones((10, 32)))\n",
    "\n",
    "# numerical grad\n",
    "numeric_grads = np.ndarray((points.shape))\n",
    "for i in range(numeric_grads.shape[0]):\n",
    "    numeric_grads[i, :] = eval_numerical_gradient(\n",
    "        SumGradWeights, points[i, :], verbose=False)\n",
    "\n",
    "# ic(numeric_grads)\n",
    "assert np.allclose(grads, numeric_grads, rtol=1e-3, atol=0)"
   ]
  },
  {
   "cell_type": "code",
   "execution_count": 381,
   "metadata": {},
   "outputs": [
    {
     "data": {
      "text/plain": [
       "(32,)"
      ]
     },
     "execution_count": 381,
     "metadata": {},
     "output_type": "execute_result"
    }
   ],
   "source": [
    "t[1].shape"
   ]
  },
  {
   "cell_type": "markdown",
   "metadata": {
    "heading_collapsed": true,
    "hidden": true
   },
   "source": [
    "#### `Реализация softmax-слоя и функции потерь`"
   ]
  },
  {
   "cell_type": "markdown",
   "metadata": {
    "hidden": true
   },
   "source": [
    "Для решения задачи многоклассовой классификации обычно используют $softmax$ в качестве нелинейности на последнем слое, чтобы получить вероятности классов для каждого объекта:\n",
    "$$\\hat y = softmax(x)  = \\left \\{\\frac {\\exp(x^i)}{\\sum_{j=1}^K \\exp(x^j)} \\right \\}_{i=1}^K, \\quad K - \\text{число классов.}$$\n",
    "\n",
    "Здесь за $x^i$ мы обозначаем $i$-ый признак объекта $x$.\n",
    "\n",
    "В качестве функции потерь выберем отрицательный логарифм правдоподобия (по английски: negative log likelihood или NLL)\n",
    "$$L(y, \\hat y) = -\\sum_{i=1}^K y^i \\log \\hat y^i,$$\n",
    "где $y^i = 1$, если объект принадлежит $i$-му классу, и $y^i = 0$ иначе.\n",
    "\n",
    "NLL совпадает с выражением для [кросс-энтропии](https://ru.wikipedia.org/wiki/Перекрёстная_энтропия) (в качестве первого распределения берем вырожденное распределение $y$, в качестве второго — предсказанное распределение $\\hat y$). Очевидно, что эту функцию потерь также можно переписать через индексацию, если через $y$ обозначить класс данного объекта:\n",
    "$$L(y, \\hat y) = - \\log \\hat y_{y}$$\n",
    "\n",
    "В таком виде ее удобно реализовывать."
   ]
  },
  {
   "cell_type": "markdown",
   "metadata": {
    "ExecuteTime": {
     "end_time": "2021-03-03T13:13:02.970075Z",
     "start_time": "2021-03-03T13:13:02.961134Z"
    },
    "hidden": true
   },
   "source": [
    "Для обучения нейронной сети будем оптимизировать эту функцию потерь по параметрам нейронной сети:\n",
    "\n",
    "$$ \\frac1N \\sum_{i=1}^N L(y_i, \\hat y_i) = \\frac1N \\sum_{i=1}^N L(y_i, \\text{NN}(x_i)) \\rightarrow \\min_{w}\\,,$$\n",
    "где за $x_i$ и $y_i$ мы обозначили признаки и таргет $i$-ого объекта обучающей выборки, за $\\text{NN}$ мы обозначили нейронную сеть, которая по признакам объекта $x_i$ выдает распределение вероятностей $\\hat y_i$, за $w$ мы обозначили все веса нейронной сети, а $N$ — это число объектов в обучающей выборке."
   ]
  },
  {
   "cell_type": "markdown",
   "metadata": {
    "hidden": true
   },
   "source": [
    "Реализуйте слой `LogSoftmax` (у этого слоя нет параметров). Метод `forward` должен вычислять логарифм от $softmax$, а метод `backward` — пропускать градиенты. В общем случае в промежуточных вычислениях `backward` получится трехмерный тензор, однако для нашей конкретной функции потерь все вычисления можно реализовать в матричном виде.  Поэтому мы будем предполагать, что аргумент `grad_output` — это матрица, у которой в каждой строке только одно ненулевое значение (не обязательно единица).\n",
    "\n",
    "**Пожелание.** Постарайтесь максимально упростить формулу градиентов, чтобы получился лаконичный и стабильный код. Большие и страшные реализации часто оказываются нестабильными."
   ]
  },
  {
   "cell_type": "code",
   "execution_count": 28,
   "metadata": {
    "ExecuteTime": {
     "end_time": "2021-03-03T14:44:49.272035Z",
     "start_time": "2021-03-03T14:44:49.070612Z"
    },
    "hidden": true
   },
   "outputs": [],
   "source": [
    "# from scipy.special import logsumexp\n",
    "# use this function instead of np.log(np.sum(np.exp(...))) because it is more stable"
   ]
  },
  {
   "cell_type": "code",
   "execution_count": 421,
   "metadata": {
    "ExecuteTime": {
     "end_time": "2021-03-03T14:44:49.288035Z",
     "start_time": "2021-03-03T14:44:49.275031Z"
    },
    "hidden": true
   },
   "outputs": [],
   "source": [
    "class LogSoftmax:\n",
    "    def __init__(self):\n",
    "        self.params = []\n",
    "\n",
    "    def forward(self, input):\n",
    "        \"\"\"\n",
    "        Applies softmax to each row and then applies component-wise log\n",
    "        Input shape: [batch, num_units]\n",
    "        Output shape: [batch, num_units]\n",
    "        \"\"\"\n",
    "        # your code here\n",
    "        self.input = input\n",
    "\n",
    "        return input - logsumexp(input, axis=-1, keepdims=True)\n",
    "\n",
    "    def backward(self, grad_output):\n",
    "        \"\"\"\n",
    "        Propagartes gradients.\n",
    "        Assumes that each row of grad_output contains only 1 \n",
    "        non-zero element\n",
    "        Input shape: [batch, num_units]\n",
    "        Output shape: [batch, num_units]\n",
    "        Do not forget to return [] as second value (grad w.r.t. params)\n",
    "        \"\"\"\n",
    "        # your code here\n",
    "        X = np.exp(self.input).astype(np.float64)\n",
    "        sum_exp = np.sum(X, axis=-1, keepdims=True)\n",
    "        sum_init = np.sum(grad_output, axis=-1, keepdims=True)\n",
    "\n",
    "        grad = grad_output - sum_init * X / sum_exp\n",
    "\n",
    "        return grad, []\n",
    "\n",
    "    def __repr__(self):\n",
    "        return 'LogSoftmax()'"
   ]
  },
  {
   "cell_type": "code",
   "execution_count": 30,
   "metadata": {},
   "outputs": [],
   "source": [
    "sf = LogSoftmax()\n",
    "points = np.linspace(-1, 1, 10*12).reshape([10, 12])\n",
    "\n",
    "# your code here\n",
    "\n",
    "\n",
    "def SumSoftMax(x):\n",
    "    return np.sum(sf.forward(x))\n",
    "\n",
    "\n",
    "# analitical grad\n",
    "sf.forward(points)\n",
    "grads = sf.backward(np.ones((10, 12)))[0]\n",
    "\n",
    "# numerical grad\n",
    "numeric_grads = np.ndarray((points.shape))\n",
    "for i in range(numeric_grads.shape[0]):\n",
    "    numeric_grads[i, :] = eval_numerical_gradient(SumSoftMax, points[i, :])\n",
    "\n",
    "assert np.allclose(grads, numeric_grads, rtol=1e-3, atol=0)"
   ]
  },
  {
   "cell_type": "markdown",
   "metadata": {
    "hidden": true
   },
   "source": [
    "Реализуйте функцию потерь и градиенты функции потерь. Во время вычисления NLL усредняйте (а не суммируйте) значения функции потерь по батчу. Обычно так делают для того, чтобы при двух запусках обучения нейронной сети с разными размерами батча получаемые значения функции потерь у этих сетей были сравнимы."
   ]
  },
  {
   "cell_type": "code",
   "execution_count": 219,
   "metadata": {
    "ExecuteTime": {
     "end_time": "2021-03-03T14:44:49.302990Z",
     "start_time": "2021-03-03T14:44:49.290985Z"
    },
    "hidden": true
   },
   "outputs": [],
   "source": [
    "def NLL(activations, target):\n",
    "    \"\"\"\n",
    "    Returns negative log-likelihood of target under model represented by\n",
    "    activations (log probabilities of classes, it's just output of LogSoftmax layer).\n",
    "    `activations` has shape [batch, num_classes], `target` has shape [batch]\n",
    "    Output shape: 1 (scalar).\n",
    "    \"\"\"\n",
    "    # your code here\n",
    "    answ = np.mean(-activations[np.arange(len(target)), target])\n",
    "    return answ\n",
    "\n",
    "\n",
    "def grad_NLL(activations, target):\n",
    "    \"\"\"\n",
    "    Returns gradient of negative log-likelihood w.r.t. activations.\n",
    "    each arg has shape [batch, num_classes]\n",
    "    output shape: [batch, num-classes]\n",
    "    \"\"\"\n",
    "    # your code here\n",
    "    answ = np.zeros(activations.shape)\n",
    "    answ[np.arange(len(target)), target] = 1\n",
    "\n",
    "    return (np.exp(activations) - answ) / len(target)"
   ]
  },
  {
   "cell_type": "markdown",
   "metadata": {
    "hidden": true
   },
   "source": [
    "Наконец, выполните проверку `LogSoftmax`-слоя, используя функцию потерь и ее градиент:"
   ]
  },
  {
   "cell_type": "code",
   "execution_count": 218,
   "metadata": {
    "ExecuteTime": {
     "end_time": "2021-03-03T14:44:49.350863Z",
     "start_time": "2021-03-03T14:44:49.305945Z"
    },
    "hidden": true
   },
   "outputs": [
    {
     "name": "stdout",
     "output_type": "stream",
     "text": [
      "(50, 10)\n"
     ]
    }
   ],
   "source": [
    "n = 50\n",
    "d = 10\n",
    "lsm = LogSoftmax()\n",
    "target = np.random.choice(d, size=n)\n",
    "points = np.random.uniform(-1, 1, n*d).reshape([n, d])\n",
    "\n",
    "# your code here\n",
    "\n",
    "\n",
    "def get_loss(x):\n",
    "    sf = lsm.forward(x)\n",
    "    return NLL(sf, target)\n",
    "\n",
    "\n",
    "# analitical grad\n",
    "lsm_out = lsm.forward(points)\n",
    "loss_grad = grad_NLL(lsm_out, target)\n",
    "grads = lsm.backward(loss_grad)[0]\n",
    "\n",
    "# numeric grad\n",
    "numeric_grads = eval_numerical_gradient(get_loss, points)\n",
    "\n",
    "assert np.allclose(grads, numeric_grads, rtol=1e-3, atol=0)"
   ]
  },
  {
   "cell_type": "markdown",
   "metadata": {
    "heading_collapsed": true,
    "hidden": true
   },
   "source": [
    "### `Загрузка данных`"
   ]
  },
  {
   "cell_type": "markdown",
   "metadata": {
    "hidden": true
   },
   "source": [
    "Мы реализаовали все архитектурные составляющие нашей нейронной сети. Осталось загрузить данные и обучить модель. Мы будем работать с датасетом `digits`, каждый объект в котором — это 8x8 изображение рукописной цифры."
   ]
  },
  {
   "cell_type": "code",
   "execution_count": 113,
   "metadata": {
    "ExecuteTime": {
     "end_time": "2021-03-03T14:44:49.872521Z",
     "start_time": "2021-03-03T14:44:49.354818Z"
    },
    "hidden": true
   },
   "outputs": [],
   "source": [
    "import matplotlib.pyplot as plt\n",
    "%matplotlib inline"
   ]
  },
  {
   "cell_type": "code",
   "execution_count": 114,
   "metadata": {
    "ExecuteTime": {
     "end_time": "2021-03-03T14:44:51.700670Z",
     "start_time": "2021-03-03T14:44:49.876510Z"
    },
    "hidden": true
   },
   "outputs": [],
   "source": [
    "from sklearn.datasets import load_digits"
   ]
  },
  {
   "cell_type": "code",
   "execution_count": 123,
   "metadata": {
    "ExecuteTime": {
     "end_time": "2021-03-03T14:44:51.873771Z",
     "start_time": "2021-03-03T14:44:51.703667Z"
    },
    "hidden": true
   },
   "outputs": [],
   "source": [
    "X, y = load_digits(return_X_y=True)"
   ]
  },
  {
   "cell_type": "code",
   "execution_count": 124,
   "metadata": {
    "ExecuteTime": {
     "end_time": "2021-03-03T14:44:51.889252Z",
     "start_time": "2021-03-03T14:44:51.877326Z"
    },
    "hidden": true
   },
   "outputs": [
    {
     "data": {
      "text/plain": [
       "((1797, 64), (1797,))"
      ]
     },
     "execution_count": 124,
     "metadata": {},
     "output_type": "execute_result"
    }
   ],
   "source": [
    "X.shape, y.shape"
   ]
  },
  {
   "cell_type": "markdown",
   "metadata": {},
   "source": [
    "Проведем разведывательный анализ"
   ]
  },
  {
   "cell_type": "code",
   "execution_count": 167,
   "metadata": {},
   "outputs": [
    {
     "data": {
      "image/png": "[encoded data removed]",
      "text/plain": [
       "<Figure size 1600x1400 with 9 Axes>"
      ]
     },
     "metadata": {},
     "output_type": "display_data"
    }
   ],
   "source": [
    "np.random.seed(42)\n",
    "\n",
    "fig, axis = plt.subplots(3, 3)\n",
    "fig.set_figwidth(16)\n",
    "fig.set_figheight(14)\n",
    "\n",
    "title = fig.suptitle('Цифры в датасете от 1 до 9')\n",
    "title.set_position((0.5, 0.92))\n",
    "for i, dig in enumerate(np.unique(y)[1:]):\n",
    "    dig_indx = np.where(y == dig)\n",
    "    rand_img = np.random.choice(dig_indx[0])\n",
    "\n",
    "    axis[i // 3][i % 3].imshow(X[rand_img].reshape((8, 8)))\n",
    "    axis[i // 3][i % 3].set_title(f'цифра {i + 1}')"
   ]
  },
  {
   "cell_type": "code",
   "execution_count": 220,
   "metadata": {},
   "outputs": [
    {
     "data": {
      "text/plain": [
       "<matplotlib.legend.Legend at 0x2b967c950>"
      ]
     },
     "execution_count": 220,
     "metadata": {},
     "output_type": "execute_result"
    },
    {
     "data": {
      "image/png": "[encoded data removed]",
      "text/plain": [
       "<Figure size 640x480 with 1 Axes>"
      ]
     },
     "metadata": {},
     "output_type": "display_data"
    }
   ],
   "source": [
    "tsne = TSNE(n_components=2)\n",
    "embeddings = tsne.fit_transform(X)\n",
    "mapper = {\n",
    "    0: 'green',\n",
    "    1: 'red',\n",
    "    2: 'orange',\n",
    "    3: 'blue',\n",
    "    4: 'lawngreen',\n",
    "    5: 'lightcoral',\n",
    "    6: 'cornflowerblue',\n",
    "    7: 'wheat',\n",
    "    8: 'saddlebrown',\n",
    "    9: 'aqua'\n",
    "}\n",
    "colors = np.array(list(map(lambda x: mapper[x], y.tolist())))\n",
    "\n",
    "for i in range(10):\n",
    "    indexes = np.where(y == i)[0]\n",
    "    plt.scatter(embeddings[indexes, 0], embeddings[indexes, 1],\n",
    "                c=colors[indexes], label=f'{i}', alpha=0.5, s=8)\n",
    "\n",
    "plt.title('TSNE представление выборки')\n",
    "plt.legend(bbox_to_anchor=(1, 0.9))"
   ]
  },
  {
   "cell_type": "markdown",
   "metadata": {
    "hidden": true
   },
   "source": [
    "Разделим данные на обучение и контроль:"
   ]
  },
  {
   "cell_type": "code",
   "execution_count": 200,
   "metadata": {
    "ExecuteTime": {
     "end_time": "2021-03-03T14:44:51.952606Z",
     "start_time": "2021-03-03T14:44:51.892280Z"
    },
    "hidden": true
   },
   "outputs": [],
   "source": [
    "from sklearn.model_selection import train_test_split"
   ]
  },
  {
   "cell_type": "code",
   "execution_count": 201,
   "metadata": {
    "ExecuteTime": {
     "end_time": "2021-03-03T14:44:51.968609Z",
     "start_time": "2021-03-03T14:44:51.955642Z"
    },
    "hidden": true
   },
   "outputs": [],
   "source": [
    "X_train, X_test, y_train, y_test = train_test_split(X, y, random_state=0)"
   ]
  },
  {
   "cell_type": "code",
   "execution_count": 202,
   "metadata": {
    "ExecuteTime": {
     "end_time": "2021-03-03T14:44:52.000485Z",
     "start_time": "2021-03-03T14:44:51.971599Z"
    },
    "hidden": true
   },
   "outputs": [
    {
     "data": {
      "text/plain": [
       "((1347, 64), (450, 64))"
      ]
     },
     "execution_count": 202,
     "metadata": {},
     "output_type": "execute_result"
    }
   ],
   "source": [
    "X_train.shape, X_test.shape"
   ]
  },
  {
   "cell_type": "markdown",
   "metadata": {
    "heading_collapsed": true,
    "hidden": true
   },
   "source": [
    "### `Сборка и обучение нейронной сети (0.8 балла)`"
   ]
  },
  {
   "cell_type": "markdown",
   "metadata": {
    "hidden": true
   },
   "source": [
    "В нашей реализации мы представляем нейронную сеть в виде списка ее слоев. Например, следующая функция конструирует нейронную сеть заданной ширины (то есть с заданным размером скрытых слоев) и глубины (то есть с заданным количеством слоев) с заданным размером входа и выхода, а также с заданной функцией активации между линейными слоями."
   ]
  },
  {
   "cell_type": "code",
   "execution_count": 413,
   "metadata": {
    "ExecuteTime": {
     "end_time": "2021-03-03T14:44:52.016442Z",
     "start_time": "2021-03-03T14:44:52.003513Z"
    },
    "hidden": true
   },
   "outputs": [],
   "source": [
    "def make_network(input_size, hidden_layers_size, output_size, n_layers=3, activation_class=ReLU):\n",
    "    network = []\n",
    "\n",
    "    for layer_idx in range(n_layers):\n",
    "        # Compute sizes of current linear layer\n",
    "        layer_in = input_size if layer_idx == 0 else hidden_layers_size\n",
    "        layer_out = output_size if layer_idx == n_layers - 1 else hidden_layers_size\n",
    "\n",
    "        # Add linear layer to the network\n",
    "        network.append(Dense(layer_in, layer_out))\n",
    "\n",
    "        # Add activation after each layer except the last one\n",
    "        if layer_idx != n_layers - 1:\n",
    "            network.append(activation_class())\n",
    "\n",
    "    # Add LogSoftmax layer to the network\n",
    "    network.append(LogSoftmax())\n",
    "\n",
    "    return network"
   ]
  },
  {
   "cell_type": "code",
   "execution_count": 430,
   "metadata": {
    "ExecuteTime": {
     "end_time": "2021-03-03T14:44:52.048395Z",
     "start_time": "2021-03-03T14:44:52.020431Z"
    },
    "hidden": true
   },
   "outputs": [
    {
     "data": {
      "text/plain": [
       "[Dense(64, 32), Relu(), Dense(32, 32), Relu(), Dense(32, 10), LogSoftmax()]"
      ]
     },
     "execution_count": 430,
     "metadata": {},
     "output_type": "execute_result"
    }
   ],
   "source": [
    "input_size = X_train.shape[1]\n",
    "hidden_layers_size = 32\n",
    "output_size = 10\n",
    "\n",
    "network = make_network(input_size, hidden_layers_size, output_size, 3, ReLU)\n",
    "network"
   ]
  },
  {
   "cell_type": "markdown",
   "metadata": {
    "hidden": true
   },
   "source": [
    "Реализуйте функцию, которая выполнет прямой проход по нейронной сети:"
   ]
  },
  {
   "cell_type": "code",
   "execution_count": 293,
   "metadata": {
    "ExecuteTime": {
     "end_time": "2021-03-03T14:44:52.063319Z",
     "start_time": "2021-03-03T14:44:52.051386Z"
    },
    "hidden": true
   },
   "outputs": [],
   "source": [
    "def forward(network, X):\n",
    "    \"\"\"\n",
    "    Perform forward pass through the network.\n",
    "\n",
    "    network: list of layers\n",
    "    X: raw data\n",
    "    X shape: [batch, features_num]\n",
    "\n",
    "    output: \n",
    "    output shape: [batch, out_features_num]\n",
    "    \"\"\"\n",
    "    # your code here\n",
    "    curr = X\n",
    "    for layer in network:\n",
    "        curr = layer.forward(curr)\n",
    "\n",
    "    return curr"
   ]
  },
  {
   "cell_type": "markdown",
   "metadata": {
    "hidden": true
   },
   "source": [
    "Для проверки, хорошо ли сеть обучилась, нам понадобится вычислять долю правильных ответов (accuracy) на данной выборке. Для этого реализуйте функцию, которая делает предсказания на каждом объекте (логично в качестве предсказания на очередном объекте выдавать тот класс, для которого предсказанный логарифм вероятности максимален):"
   ]
  },
  {
   "cell_type": "code",
   "execution_count": 294,
   "metadata": {
    "ExecuteTime": {
     "end_time": "2021-03-03T14:44:52.063319Z",
     "start_time": "2021-03-03T14:44:52.051386Z"
    },
    "hidden": true
   },
   "outputs": [],
   "source": [
    "def predict(network, X):\n",
    "    \"\"\"\n",
    "    Returns predictions for each object in X.\n",
    "\n",
    "    network: list of layers\n",
    "    X: raw data\n",
    "    X shape: [batch, features_num]\n",
    "\n",
    "    output: array of classes, each from 0 to 9\n",
    "    output shape: [batch]\n",
    "    \"\"\"\n",
    "    # your code here\n",
    "    probas = forward(network, X)\n",
    "\n",
    "    return np.argmax(probas, axis=1)"
   ]
  },
  {
   "cell_type": "code",
   "execution_count": 298,
   "metadata": {},
   "outputs": [
    {
     "data": {
      "text/plain": [
       "array([7, 6, 7, 7, 7, 7, 7, 7, 7, 7, 7, 7, 7, 7, 7, 7, 7, 7, 1, 7, 7, 1,\n",
       "       3, 7, 7, 7, 7, 7, 7, 1, 7, 7, 1, 7, 7, 6, 7, 6, 4, 3, 7, 7, 1, 1,\n",
       "       7, 7, 7, 3, 1, 7, 1, 4, 7, 4, 7, 4, 7, 1, 7, 7, 7, 1, 7, 7, 7, 7,\n",
       "       3, 7, 7, 7, 1, 7, 1, 7, 7, 7, 7, 7, 1, 7, 7, 7, 7, 7, 4, 7, 1, 7,\n",
       "       3, 1, 7, 4, 7, 7, 1, 7, 1, 7, 7, 7])"
      ]
     },
     "execution_count": 298,
     "metadata": {},
     "output_type": "execute_result"
    }
   ],
   "source": [
    "predict(network, X_train[:100, :])"
   ]
  },
  {
   "cell_type": "markdown",
   "metadata": {
    "hidden": true
   },
   "source": [
    "Мы будем обучать параметры нейросети с помощью готовой функции оптимизации из модуля `scipy`:"
   ]
  },
  {
   "cell_type": "code",
   "execution_count": 277,
   "metadata": {
    "ExecuteTime": {
     "end_time": "2021-03-03T14:44:52.079311Z",
     "start_time": "2021-03-03T14:44:52.070308Z"
    },
    "hidden": true
   },
   "outputs": [],
   "source": [
    "from scipy.optimize import minimize"
   ]
  },
  {
   "cell_type": "code",
   "execution_count": 279,
   "metadata": {
    "ExecuteTime": {
     "end_time": "2021-03-03T14:44:52.111226Z",
     "start_time": "2021-03-03T14:44:52.085292Z"
    },
    "hidden": true,
    "scrolled": true
   },
   "outputs": [
    {
     "name": "stdout",
     "output_type": "stream",
     "text": [
      "Help on function minimize in module scipy.optimize._minimize:\n",
      "\n",
      "minimize(fun, x0, args=(), method=None, jac=None, hess=None, hessp=None, bounds=None, constraints=(), tol=None, callback=None, options=None)\n",
      "    Minimization of scalar function of one or more variables.\n",
      "    \n",
      "    Parameters\n",
      "    ----------\n",
      "    fun : callable\n",
      "        The objective function to be minimized.\n",
      "    \n",
      "            ``fun(x, *args) -> float``\n",
      "    \n",
      "        where ``x`` is a 1-D array with shape (n,) and ``args``\n",
      "        is a tuple of the fixed parameters needed to completely\n",
      "        specify the function.\n",
      "    x0 : ndarray, shape (n,)\n",
      "        Initial guess. Array of real elements of size (n,),\n",
      "        where ``n`` is the number of independent variables.\n",
      "    args : tuple, optional\n",
      "        Extra arguments passed to the objective function and its\n",
      "        derivatives (`fun`, `jac` and `hess` functions).\n",
      "    method : str or callable, optional\n",
      "        Type of solver.  Should be one of\n",
      "    \n",
      "            - 'Nelder-Mead' :ref:`(see here) <optimize.minimize-neldermead>`\n",
      "            - 'Powell'      :ref:`(see here) <optimize.minimize-powell>`\n",
      "            - 'CG'          :ref:`(see here) <optimize.minimize-cg>`\n",
      "            - 'BFGS'        :ref:`(see here) <optimize.minimize-bfgs>`\n",
      "            - 'Newton-CG'   :ref:`(see here) <optimize.minimize-newtoncg>`\n",
      "            - 'L-BFGS-B'    :ref:`(see here) <optimize.minimize-lbfgsb>`\n",
      "            - 'TNC'         :ref:`(see here) <optimize.minimize-tnc>`\n",
      "            - 'COBYLA'      :ref:`(see here) <optimize.minimize-cobyla>`\n",
      "            - 'SLSQP'       :ref:`(see here) <optimize.minimize-slsqp>`\n",
      "            - 'trust-constr':ref:`(see here) <optimize.minimize-trustconstr>`\n",
      "            - 'dogleg'      :ref:`(see here) <optimize.minimize-dogleg>`\n",
      "            - 'trust-ncg'   :ref:`(see here) <optimize.minimize-trustncg>`\n",
      "            - 'trust-exact' :ref:`(see here) <optimize.minimize-trustexact>`\n",
      "            - 'trust-krylov' :ref:`(see here) <optimize.minimize-trustkrylov>`\n",
      "            - custom - a callable object, see below for description.\n",
      "    \n",
      "        If not given, chosen to be one of ``BFGS``, ``L-BFGS-B``, ``SLSQP``,\n",
      "        depending on whether or not the problem has constraints or bounds.\n",
      "    jac : {callable,  '2-point', '3-point', 'cs', bool}, optional\n",
      "        Method for computing the gradient vector. Only for CG, BFGS,\n",
      "        Newton-CG, L-BFGS-B, TNC, SLSQP, dogleg, trust-ncg, trust-krylov,\n",
      "        trust-exact and trust-constr.\n",
      "        If it is a callable, it should be a function that returns the gradient\n",
      "        vector:\n",
      "    \n",
      "            ``jac(x, *args) -> array_like, shape (n,)``\n",
      "    \n",
      "        where ``x`` is an array with shape (n,) and ``args`` is a tuple with\n",
      "        the fixed parameters. If `jac` is a Boolean and is True, `fun` is\n",
      "        assumed to return a tuple ``(f, g)`` containing the objective\n",
      "        function and the gradient.\n",
      "        Methods 'Newton-CG', 'trust-ncg', 'dogleg', 'trust-exact', and\n",
      "        'trust-krylov' require that either a callable be supplied, or that\n",
      "        `fun` return the objective and gradient.\n",
      "        If None or False, the gradient will be estimated using 2-point finite\n",
      "        difference estimation with an absolute step size.\n",
      "        Alternatively, the keywords  {'2-point', '3-point', 'cs'} can be used\n",
      "        to select a finite difference scheme for numerical estimation of the\n",
      "        gradient with a relative step size. These finite difference schemes\n",
      "        obey any specified `bounds`.\n",
      "    hess : {callable, '2-point', '3-point', 'cs', HessianUpdateStrategy}, optional\n",
      "        Method for computing the Hessian matrix. Only for Newton-CG, dogleg,\n",
      "        trust-ncg, trust-krylov, trust-exact and trust-constr.\n",
      "        If it is callable, it should return the Hessian matrix:\n",
      "    \n",
      "            ``hess(x, *args) -> {LinearOperator, spmatrix, array}, (n, n)``\n",
      "    \n",
      "        where ``x`` is a (n,) ndarray and ``args`` is a tuple with the fixed\n",
      "        parameters.\n",
      "        The keywords {'2-point', '3-point', 'cs'} can also be used to select\n",
      "        a finite difference scheme for numerical estimation of the hessian.\n",
      "        Alternatively, objects implementing the `HessianUpdateStrategy`\n",
      "        interface can be used to approximate the Hessian. Available\n",
      "        quasi-Newton methods implementing this interface are:\n",
      "    \n",
      "            - `BFGS`;\n",
      "            - `SR1`.\n",
      "    \n",
      "        Not all of the options are available for each of the methods; for\n",
      "        availability refer to the notes.\n",
      "    hessp : callable, optional\n",
      "        Hessian of objective function times an arbitrary vector p. Only for\n",
      "        Newton-CG, trust-ncg, trust-krylov, trust-constr.\n",
      "        Only one of `hessp` or `hess` needs to be given. If `hess` is\n",
      "        provided, then `hessp` will be ignored. `hessp` must compute the\n",
      "        Hessian times an arbitrary vector:\n",
      "    \n",
      "            ``hessp(x, p, *args) ->  ndarray shape (n,)``\n",
      "    \n",
      "        where ``x`` is a (n,) ndarray, ``p`` is an arbitrary vector with\n",
      "        dimension (n,) and ``args`` is a tuple with the fixed\n",
      "        parameters.\n",
      "    bounds : sequence or `Bounds`, optional\n",
      "        Bounds on variables for Nelder-Mead, L-BFGS-B, TNC, SLSQP, Powell,\n",
      "        trust-constr, and COBYLA methods. There are two ways to specify the\n",
      "        bounds:\n",
      "    \n",
      "            1. Instance of `Bounds` class.\n",
      "            2. Sequence of ``(min, max)`` pairs for each element in `x`. None\n",
      "               is used to specify no bound.\n",
      "    \n",
      "    constraints : {Constraint, dict} or List of {Constraint, dict}, optional\n",
      "        Constraints definition. Only for COBYLA, SLSQP and trust-constr.\n",
      "    \n",
      "        Constraints for 'trust-constr' are defined as a single object or a\n",
      "        list of objects specifying constraints to the optimization problem.\n",
      "        Available constraints are:\n",
      "    \n",
      "            - `LinearConstraint`\n",
      "            - `NonlinearConstraint`\n",
      "    \n",
      "        Constraints for COBYLA, SLSQP are defined as a list of dictionaries.\n",
      "        Each dictionary with fields:\n",
      "    \n",
      "            type : str\n",
      "                Constraint type: 'eq' for equality, 'ineq' for inequality.\n",
      "            fun : callable\n",
      "                The function defining the constraint.\n",
      "            jac : callable, optional\n",
      "                The Jacobian of `fun` (only for SLSQP).\n",
      "            args : sequence, optional\n",
      "                Extra arguments to be passed to the function and Jacobian.\n",
      "    \n",
      "        Equality constraint means that the constraint function result is to\n",
      "        be zero whereas inequality means that it is to be non-negative.\n",
      "        Note that COBYLA only supports inequality constraints.\n",
      "    tol : float, optional\n",
      "        Tolerance for termination. When `tol` is specified, the selected\n",
      "        minimization algorithm sets some relevant solver-specific tolerance(s)\n",
      "        equal to `tol`. For detailed control, use solver-specific\n",
      "        options.\n",
      "    options : dict, optional\n",
      "        A dictionary of solver options. All methods except `TNC` accept the\n",
      "        following generic options:\n",
      "    \n",
      "            maxiter : int\n",
      "                Maximum number of iterations to perform. Depending on the\n",
      "                method each iteration may use several function evaluations.\n",
      "    \n",
      "                For `TNC` use `maxfun` instead of `maxiter`.\n",
      "            disp : bool\n",
      "                Set to True to print convergence messages.\n",
      "    \n",
      "        For method-specific options, see :func:`show_options()`.\n",
      "    callback : callable, optional\n",
      "        A callable called after each iteration.\n",
      "    \n",
      "        All methods except TNC, SLSQP, and COBYLA support a callable with\n",
      "        the signature:\n",
      "    \n",
      "            ``callback(intermediate_result: OptimizeResult)``\n",
      "    \n",
      "        where ``intermediate_result`` is a keyword parameter containing an\n",
      "        `OptimizeResult` with attributes ``x`` and ``fun``, the present values\n",
      "        of the parameter vector and objective function. Note that the name\n",
      "        of the parameter must be ``intermediate_result`` for the callback\n",
      "        to be passed an `OptimizeResult`. These methods will also terminate if\n",
      "        the callback raises ``StopIteration``.\n",
      "    \n",
      "        All methods except trust-constr (also) support a signature like:\n",
      "    \n",
      "            ``callback(xk)``\n",
      "    \n",
      "        where ``xk`` is the current parameter vector.\n",
      "    \n",
      "        Introspection is used to determine which of the signatures above to\n",
      "        invoke.\n",
      "    \n",
      "    Returns\n",
      "    -------\n",
      "    res : OptimizeResult\n",
      "        The optimization result represented as a ``OptimizeResult`` object.\n",
      "        Important attributes are: ``x`` the solution array, ``success`` a\n",
      "        Boolean flag indicating if the optimizer exited successfully and\n",
      "        ``message`` which describes the cause of the termination. See\n",
      "        `OptimizeResult` for a description of other attributes.\n",
      "    \n",
      "    See also\n",
      "    --------\n",
      "    minimize_scalar : Interface to minimization algorithms for scalar\n",
      "        univariate functions\n",
      "    show_options : Additional options accepted by the solvers\n",
      "    \n",
      "    Notes\n",
      "    -----\n",
      "    This section describes the available solvers that can be selected by the\n",
      "    'method' parameter. The default method is *BFGS*.\n",
      "    \n",
      "    **Unconstrained minimization**\n",
      "    \n",
      "    Method :ref:`CG <optimize.minimize-cg>` uses a nonlinear conjugate\n",
      "    gradient algorithm by Polak and Ribiere, a variant of the\n",
      "    Fletcher-Reeves method described in [5]_ pp.120-122. Only the\n",
      "    first derivatives are used.\n",
      "    \n",
      "    Method :ref:`BFGS <optimize.minimize-bfgs>` uses the quasi-Newton\n",
      "    method of Broyden, Fletcher, Goldfarb, and Shanno (BFGS) [5]_\n",
      "    pp. 136. It uses the first derivatives only. BFGS has proven good\n",
      "    performance even for non-smooth optimizations. This method also\n",
      "    returns an approximation of the Hessian inverse, stored as\n",
      "    `hess_inv` in the OptimizeResult object.\n",
      "    \n",
      "    Method :ref:`Newton-CG <optimize.minimize-newtoncg>` uses a\n",
      "    Newton-CG algorithm [5]_ pp. 168 (also known as the truncated\n",
      "    Newton method). It uses a CG method to the compute the search\n",
      "    direction. See also *TNC* method for a box-constrained\n",
      "    minimization with a similar algorithm. Suitable for large-scale\n",
      "    problems.\n",
      "    \n",
      "    Method :ref:`dogleg <optimize.minimize-dogleg>` uses the dog-leg\n",
      "    trust-region algorithm [5]_ for unconstrained minimization. This\n",
      "    algorithm requires the gradient and Hessian; furthermore the\n",
      "    Hessian is required to be positive definite.\n",
      "    \n",
      "    Method :ref:`trust-ncg <optimize.minimize-trustncg>` uses the\n",
      "    Newton conjugate gradient trust-region algorithm [5]_ for\n",
      "    unconstrained minimization. This algorithm requires the gradient\n",
      "    and either the Hessian or a function that computes the product of\n",
      "    the Hessian with a given vector. Suitable for large-scale problems.\n",
      "    \n",
      "    Method :ref:`trust-krylov <optimize.minimize-trustkrylov>` uses\n",
      "    the Newton GLTR trust-region algorithm [14]_, [15]_ for unconstrained\n",
      "    minimization. This algorithm requires the gradient\n",
      "    and either the Hessian or a function that computes the product of\n",
      "    the Hessian with a given vector. Suitable for large-scale problems.\n",
      "    On indefinite problems it requires usually less iterations than the\n",
      "    `trust-ncg` method and is recommended for medium and large-scale problems.\n",
      "    \n",
      "    Method :ref:`trust-exact <optimize.minimize-trustexact>`\n",
      "    is a trust-region method for unconstrained minimization in which\n",
      "    quadratic subproblems are solved almost exactly [13]_. This\n",
      "    algorithm requires the gradient and the Hessian (which is\n",
      "    *not* required to be positive definite). It is, in many\n",
      "    situations, the Newton method to converge in fewer iterations\n",
      "    and the most recommended for small and medium-size problems.\n",
      "    \n",
      "    **Bound-Constrained minimization**\n",
      "    \n",
      "    Method :ref:`Nelder-Mead <optimize.minimize-neldermead>` uses the\n",
      "    Simplex algorithm [1]_, [2]_. This algorithm is robust in many\n",
      "    applications. However, if numerical computation of derivative can be\n",
      "    trusted, other algorithms using the first and/or second derivatives\n",
      "    information might be preferred for their better performance in\n",
      "    general.\n",
      "    \n",
      "    Method :ref:`L-BFGS-B <optimize.minimize-lbfgsb>` uses the L-BFGS-B\n",
      "    algorithm [6]_, [7]_ for bound constrained minimization.\n",
      "    \n",
      "    Method :ref:`Powell <optimize.minimize-powell>` is a modification\n",
      "    of Powell's method [3]_, [4]_ which is a conjugate direction\n",
      "    method. It performs sequential one-dimensional minimizations along\n",
      "    each vector of the directions set (`direc` field in `options` and\n",
      "    `info`), which is updated at each iteration of the main\n",
      "    minimization loop. The function need not be differentiable, and no\n",
      "    derivatives are taken. If bounds are not provided, then an\n",
      "    unbounded line search will be used. If bounds are provided and\n",
      "    the initial guess is within the bounds, then every function\n",
      "    evaluation throughout the minimization procedure will be within\n",
      "    the bounds. If bounds are provided, the initial guess is outside\n",
      "    the bounds, and `direc` is full rank (default has full rank), then\n",
      "    some function evaluations during the first iteration may be\n",
      "    outside the bounds, but every function evaluation after the first\n",
      "    iteration will be within the bounds. If `direc` is not full rank,\n",
      "    then some parameters may not be optimized and the solution is not\n",
      "    guaranteed to be within the bounds.\n",
      "    \n",
      "    Method :ref:`TNC <optimize.minimize-tnc>` uses a truncated Newton\n",
      "    algorithm [5]_, [8]_ to minimize a function with variables subject\n",
      "    to bounds. This algorithm uses gradient information; it is also\n",
      "    called Newton Conjugate-Gradient. It differs from the *Newton-CG*\n",
      "    method described above as it wraps a C implementation and allows\n",
      "    each variable to be given upper and lower bounds.\n",
      "    \n",
      "    **Constrained Minimization**\n",
      "    \n",
      "    Method :ref:`COBYLA <optimize.minimize-cobyla>` uses the\n",
      "    Constrained Optimization BY Linear Approximation (COBYLA) method\n",
      "    [9]_, [10]_, [11]_. The algorithm is based on linear\n",
      "    approximations to the objective function and each constraint. The\n",
      "    method wraps a FORTRAN implementation of the algorithm. The\n",
      "    constraints functions 'fun' may return either a single number\n",
      "    or an array or list of numbers.\n",
      "    \n",
      "    Method :ref:`SLSQP <optimize.minimize-slsqp>` uses Sequential\n",
      "    Least SQuares Programming to minimize a function of several\n",
      "    variables with any combination of bounds, equality and inequality\n",
      "    constraints. The method wraps the SLSQP Optimization subroutine\n",
      "    originally implemented by Dieter Kraft [12]_. Note that the\n",
      "    wrapper handles infinite values in bounds by converting them into\n",
      "    large floating values.\n",
      "    \n",
      "    Method :ref:`trust-constr <optimize.minimize-trustconstr>` is a\n",
      "    trust-region algorithm for constrained optimization. It switches\n",
      "    between two implementations depending on the problem definition.\n",
      "    It is the most versatile constrained minimization algorithm\n",
      "    implemented in SciPy and the most appropriate for large-scale problems.\n",
      "    For equality constrained problems it is an implementation of Byrd-Omojokun\n",
      "    Trust-Region SQP method described in [17]_ and in [5]_, p. 549. When\n",
      "    inequality constraints are imposed as well, it switches to the trust-region\n",
      "    interior point method described in [16]_. This interior point algorithm,\n",
      "    in turn, solves inequality constraints by introducing slack variables\n",
      "    and solving a sequence of equality-constrained barrier problems\n",
      "    for progressively smaller values of the barrier parameter.\n",
      "    The previously described equality constrained SQP method is\n",
      "    used to solve the subproblems with increasing levels of accuracy\n",
      "    as the iterate gets closer to a solution.\n",
      "    \n",
      "    **Finite-Difference Options**\n",
      "    \n",
      "    For Method :ref:`trust-constr <optimize.minimize-trustconstr>`\n",
      "    the gradient and the Hessian may be approximated using\n",
      "    three finite-difference schemes: {'2-point', '3-point', 'cs'}.\n",
      "    The scheme 'cs' is, potentially, the most accurate but it\n",
      "    requires the function to correctly handle complex inputs and to\n",
      "    be differentiable in the complex plane. The scheme '3-point' is more\n",
      "    accurate than '2-point' but requires twice as many operations. If the\n",
      "    gradient is estimated via finite-differences the Hessian must be\n",
      "    estimated using one of the quasi-Newton strategies.\n",
      "    \n",
      "    **Method specific options for the** `hess` **keyword**\n",
      "    \n",
      "    +--------------+------+----------+-------------------------+-----+\n",
      "    | method/Hess  | None | callable | '2-point/'3-point'/'cs' | HUS |\n",
      "    +==============+======+==========+=========================+=====+\n",
      "    | Newton-CG    | x    | (n, n)   | x                       | x   |\n",
      "    |              |      | LO       |                         |     |\n",
      "    +--------------+------+----------+-------------------------+-----+\n",
      "    | dogleg       |      | (n, n)   |                         |     |\n",
      "    +--------------+------+----------+-------------------------+-----+\n",
      "    | trust-ncg    |      | (n, n)   | x                       | x   |\n",
      "    +--------------+------+----------+-------------------------+-----+\n",
      "    | trust-krylov |      | (n, n)   | x                       | x   |\n",
      "    +--------------+------+----------+-------------------------+-----+\n",
      "    | trust-exact  |      | (n, n)   |                         |     |\n",
      "    +--------------+------+----------+-------------------------+-----+\n",
      "    | trust-constr | x    | (n, n)   |  x                      | x   |\n",
      "    |              |      | LO       |                         |     |\n",
      "    |              |      | sp       |                         |     |\n",
      "    +--------------+------+----------+-------------------------+-----+\n",
      "    \n",
      "    where LO=LinearOperator, sp=Sparse matrix, HUS=HessianUpdateStrategy\n",
      "    \n",
      "    **Custom minimizers**\n",
      "    \n",
      "    It may be useful to pass a custom minimization method, for example\n",
      "    when using a frontend to this method such as `scipy.optimize.basinhopping`\n",
      "    or a different library.  You can simply pass a callable as the ``method``\n",
      "    parameter.\n",
      "    \n",
      "    The callable is called as ``method(fun, x0, args, **kwargs, **options)``\n",
      "    where ``kwargs`` corresponds to any other parameters passed to `minimize`\n",
      "    (such as `callback`, `hess`, etc.), except the `options` dict, which has\n",
      "    its contents also passed as `method` parameters pair by pair.  Also, if\n",
      "    `jac` has been passed as a bool type, `jac` and `fun` are mangled so that\n",
      "    `fun` returns just the function values and `jac` is converted to a function\n",
      "    returning the Jacobian.  The method shall return an `OptimizeResult`\n",
      "    object.\n",
      "    \n",
      "    The provided `method` callable must be able to accept (and possibly ignore)\n",
      "    arbitrary parameters; the set of parameters accepted by `minimize` may\n",
      "    expand in future versions and then these parameters will be passed to\n",
      "    the method.  You can find an example in the scipy.optimize tutorial.\n",
      "    \n",
      "    References\n",
      "    ----------\n",
      "    .. [1] Nelder, J A, and R Mead. 1965. A Simplex Method for Function\n",
      "        Minimization. The Computer Journal 7: 308-13.\n",
      "    .. [2] Wright M H. 1996. Direct search methods: Once scorned, now\n",
      "        respectable, in Numerical Analysis 1995: Proceedings of the 1995\n",
      "        Dundee Biennial Conference in Numerical Analysis (Eds. D F\n",
      "        Griffiths and G A Watson). Addison Wesley Longman, Harlow, UK.\n",
      "        191-208.\n",
      "    .. [3] Powell, M J D. 1964. An efficient method for finding the minimum of\n",
      "       a function of several variables without calculating derivatives. The\n",
      "       Computer Journal 7: 155-162.\n",
      "    .. [4] Press W, S A Teukolsky, W T Vetterling and B P Flannery.\n",
      "       Numerical Recipes (any edition), Cambridge University Press.\n",
      "    .. [5] Nocedal, J, and S J Wright. 2006. Numerical Optimization.\n",
      "       Springer New York.\n",
      "    .. [6] Byrd, R H and P Lu and J. Nocedal. 1995. A Limited Memory\n",
      "       Algorithm for Bound Constrained Optimization. SIAM Journal on\n",
      "       Scientific and Statistical Computing 16 (5): 1190-1208.\n",
      "    .. [7] Zhu, C and R H Byrd and J Nocedal. 1997. L-BFGS-B: Algorithm\n",
      "       778: L-BFGS-B, FORTRAN routines for large scale bound constrained\n",
      "       optimization. ACM Transactions on Mathematical Software 23 (4):\n",
      "       550-560.\n",
      "    .. [8] Nash, S G. Newton-Type Minimization Via the Lanczos Method.\n",
      "       1984. SIAM Journal of Numerical Analysis 21: 770-778.\n",
      "    .. [9] Powell, M J D. A direct search optimization method that models\n",
      "       the objective and constraint functions by linear interpolation.\n",
      "       1994. Advances in Optimization and Numerical Analysis, eds. S. Gomez\n",
      "       and J-P Hennart, Kluwer Academic (Dordrecht), 51-67.\n",
      "    .. [10] Powell M J D. Direct search algorithms for optimization\n",
      "       calculations. 1998. Acta Numerica 7: 287-336.\n",
      "    .. [11] Powell M J D. A view of algorithms for optimization without\n",
      "       derivatives. 2007.Cambridge University Technical Report DAMTP\n",
      "       2007/NA03\n",
      "    .. [12] Kraft, D. A software package for sequential quadratic\n",
      "       programming. 1988. Tech. Rep. DFVLR-FB 88-28, DLR German Aerospace\n",
      "       Center -- Institute for Flight Mechanics, Koln, Germany.\n",
      "    .. [13] Conn, A. R., Gould, N. I., and Toint, P. L.\n",
      "       Trust region methods. 2000. Siam. pp. 169-200.\n",
      "    .. [14] F. Lenders, C. Kirches, A. Potschka: \"trlib: A vector-free\n",
      "       implementation of the GLTR method for iterative solution of\n",
      "       the trust region problem\", :arxiv:`1611.04718`\n",
      "    .. [15] N. Gould, S. Lucidi, M. Roma, P. Toint: \"Solving the\n",
      "       Trust-Region Subproblem using the Lanczos Method\",\n",
      "       SIAM J. Optim., 9(2), 504--525, (1999).\n",
      "    .. [16] Byrd, Richard H., Mary E. Hribar, and Jorge Nocedal. 1999.\n",
      "        An interior point algorithm for large-scale nonlinear  programming.\n",
      "        SIAM Journal on Optimization 9.4: 877-900.\n",
      "    .. [17] Lalee, Marucha, Jorge Nocedal, and Todd Plantega. 1998. On the\n",
      "        implementation of an algorithm for large-scale equality constrained\n",
      "        optimization. SIAM Journal on Optimization 8.3: 682-706.\n",
      "    \n",
      "    Examples\n",
      "    --------\n",
      "    Let us consider the problem of minimizing the Rosenbrock function. This\n",
      "    function (and its respective derivatives) is implemented in `rosen`\n",
      "    (resp. `rosen_der`, `rosen_hess`) in the `scipy.optimize`.\n",
      "    \n",
      "    >>> from scipy.optimize import minimize, rosen, rosen_der\n",
      "    \n",
      "    A simple application of the *Nelder-Mead* method is:\n",
      "    \n",
      "    >>> x0 = [1.3, 0.7, 0.8, 1.9, 1.2]\n",
      "    >>> res = minimize(rosen, x0, method='Nelder-Mead', tol=1e-6)\n",
      "    >>> res.x\n",
      "    array([ 1.,  1.,  1.,  1.,  1.])\n",
      "    \n",
      "    Now using the *BFGS* algorithm, using the first derivative and a few\n",
      "    options:\n",
      "    \n",
      "    >>> res = minimize(rosen, x0, method='BFGS', jac=rosen_der,\n",
      "    ...                options={'gtol': 1e-6, 'disp': True})\n",
      "    Optimization terminated successfully.\n",
      "             Current function value: 0.000000\n",
      "             Iterations: 26\n",
      "             Function evaluations: 31\n",
      "             Gradient evaluations: 31\n",
      "    >>> res.x\n",
      "    array([ 1.,  1.,  1.,  1.,  1.])\n",
      "    >>> print(res.message)\n",
      "    Optimization terminated successfully.\n",
      "    >>> res.hess_inv\n",
      "    array([\n",
      "        [ 0.00749589,  0.01255155,  0.02396251,  0.04750988,  0.09495377],  # may vary\n",
      "        [ 0.01255155,  0.02510441,  0.04794055,  0.09502834,  0.18996269],\n",
      "        [ 0.02396251,  0.04794055,  0.09631614,  0.19092151,  0.38165151],\n",
      "        [ 0.04750988,  0.09502834,  0.19092151,  0.38341252,  0.7664427 ],\n",
      "        [ 0.09495377,  0.18996269,  0.38165151,  0.7664427,   1.53713523]\n",
      "    ])\n",
      "    \n",
      "    \n",
      "    Next, consider a minimization problem with several constraints (namely\n",
      "    Example 16.4 from [5]_). The objective function is:\n",
      "    \n",
      "    >>> fun = lambda x: (x[0] - 1)**2 + (x[1] - 2.5)**2\n",
      "    \n",
      "    There are three constraints defined as:\n",
      "    \n",
      "    >>> cons = ({'type': 'ineq', 'fun': lambda x:  x[0] - 2 * x[1] + 2},\n",
      "    ...         {'type': 'ineq', 'fun': lambda x: -x[0] - 2 * x[1] + 6},\n",
      "    ...         {'type': 'ineq', 'fun': lambda x: -x[0] + 2 * x[1] + 2})\n",
      "    \n",
      "    And variables must be positive, hence the following bounds:\n",
      "    \n",
      "    >>> bnds = ((0, None), (0, None))\n",
      "    \n",
      "    The optimization problem is solved using the SLSQP method as:\n",
      "    \n",
      "    >>> res = minimize(fun, (2, 0), method='SLSQP', bounds=bnds,\n",
      "    ...                constraints=cons)\n",
      "    \n",
      "    It should converge to the theoretical solution (1.4 ,1.7).\n",
      "\n"
     ]
    }
   ],
   "source": [
    "help(minimize)"
   ]
  },
  {
   "cell_type": "markdown",
   "metadata": {
    "hidden": true
   },
   "source": [
    "Эта функция имеет стандартный интерфейс: нужно передать callable объект, который вычисляет значение и градиент целевой функции, а также точку старта оптимизации — начальное приближение (одномерный `numpy`-массив). Поэтому нам понадобятся функции для сбора и задания всех весов нашей нейросети (именно для них мы всегда записывали параметры слоя в список `layer.params`)"
   ]
  },
  {
   "cell_type": "code",
   "execution_count": 281,
   "metadata": {
    "ExecuteTime": {
     "end_time": "2021-03-03T14:44:52.127145Z",
     "start_time": "2021-03-03T14:44:52.114180Z"
    },
    "hidden": true
   },
   "outputs": [],
   "source": [
    "def get_weights(network):\n",
    "    weights = []\n",
    "    for layer in network:\n",
    "        for param in layer.params:\n",
    "            weights += param.ravel().tolist()\n",
    "    return np.array(weights)\n",
    "\n",
    "\n",
    "def set_weights(weights, network):\n",
    "    i = 0\n",
    "    for layer in network:\n",
    "        for param in layer.params:\n",
    "            l = param.size\n",
    "            param[:] = weights[i:i+l].reshape(param.shape)\n",
    "            i += l"
   ]
  },
  {
   "cell_type": "markdown",
   "metadata": {
    "hidden": true
   },
   "source": [
    "Вам нужно реализовать ту самую функцию, которую мы будем передавать в `minimize`. Эта функция должна брать на вход текущую точку (вектор всех параметров), а также список дополнительных параметров (мы будем передавать через них нашу сеть и обучающие данные) и возвращать значение критерия качества (NLL) и его градиент по параметрам модели."
   ]
  },
  {
   "cell_type": "code",
   "execution_count": 402,
   "metadata": {
    "ExecuteTime": {
     "end_time": "2021-03-03T14:44:52.143103Z",
     "start_time": "2021-03-03T14:44:52.131134Z"
    },
    "hidden": true
   },
   "outputs": [],
   "source": [
    "def compute_loss_grad(weights, args):\n",
    "    \"\"\"\n",
    "    takes current weights and computes cross-entropy and gradients\n",
    "    weights shape: [num_parameters]\n",
    "    output 1: loss (scalar)\n",
    "    output 2: gradient w.r.t. weights, shape: [num_parameters]\n",
    "\n",
    "    hint: firstly perform forward pass through the whole network\n",
    "    then compute loss and its gradients\n",
    "    then perform backward pass, transmitting first baskward output\n",
    "    to the previos layer and saving second baskward output in a list\n",
    "    finally flatten all the gradients in this list\n",
    "    (in the order from the first to the last layer)\n",
    "\n",
    "    Do not forget to set weights of the network!\n",
    "    \"\"\"\n",
    "    network, X, y = args\n",
    "\n",
    "    set_weights(weights, network)\n",
    "\n",
    "    out = forward(network, X)\n",
    "    loss = NLL(out, y)\n",
    "    curr_grad = grad_NLL(out, y)\n",
    "\n",
    "    param_list_reversed = []\n",
    "\n",
    "    for layer in network[::-1]:\n",
    "        curr_grad, params_grad = layer.backward(curr_grad)\n",
    "        param_list_reversed.append(params_grad)\n",
    "\n",
    "    ravel_grad = np.hstack([\n",
    "        x for xs in param_list_reversed[::-1] for x in xs\n",
    "    ])\n",
    "\n",
    "    print('-' * 15)\n",
    "    print('loss:    ', loss)\n",
    "    print('gradient:', np.linalg.norm(ravel_grad))\n",
    "    print('-' * 15)\n",
    "\n",
    "    return loss, ravel_grad"
   ]
  },
  {
   "cell_type": "code",
   "execution_count": 403,
   "metadata": {},
   "outputs": [
    {
     "name": "stdout",
     "output_type": "stream",
     "text": [
      "---------------\n",
      "loss:     2.3026382166878396\n",
      "gradient: 0.022774565202393314\n",
      "---------------\n"
     ]
    },
    {
     "data": {
      "text/plain": [
       "(2.3026382166878396,\n",
       " array([0.        , 0.        , 0.        , ..., 0.00275676, 0.00632004,\n",
       "        0.00120275]))"
      ]
     },
     "execution_count": 403,
     "metadata": {},
     "output_type": "execute_result"
    }
   ],
   "source": [
    "compute_loss_grad(get_weights(network), (network, X_train, y_train))"
   ]
  },
  {
   "cell_type": "markdown",
   "metadata": {
    "hidden": true
   },
   "source": [
    "Теперь мы готовы обучать нашу нейросеть. "
   ]
  },
  {
   "cell_type": "code",
   "execution_count": 431,
   "metadata": {
    "ExecuteTime": {
     "end_time": "2021-03-03T14:44:52.175017Z",
     "start_time": "2021-03-03T14:44:52.148090Z"
    },
    "hidden": true
   },
   "outputs": [],
   "source": [
    "weights = get_weights(network)"
   ]
  },
  {
   "cell_type": "code",
   "execution_count": 432,
   "metadata": {
    "ExecuteTime": {
     "end_time": "2021-03-03T14:44:53.078366Z",
     "start_time": "2021-03-03T14:44:52.179006Z"
    },
    "hidden": true
   },
   "outputs": [
    {
     "name": "stdout",
     "output_type": "stream",
     "text": [
      "---------------\n",
      "loss:     2.3025185695010837\n",
      "gradient: 0.0238278084895258\n",
      "---------------\n",
      "---------------\n",
      "loss:     2.3043586572798946\n",
      "gradient: 0.30940673044660333\n",
      "---------------\n",
      "---------------\n",
      "loss:     2.2983334860583358\n",
      "gradient: 0.11750174187080255\n",
      "---------------\n",
      "---------------\n",
      "loss:     2.284953449490033\n",
      "gradient: 0.34542743116790814\n",
      "---------------\n",
      "---------------\n",
      "loss:     7.262571800028662\n",
      "gradient: 34.689816621013875\n",
      "---------------\n"
     ]
    },
    {
     "name": "stdout",
     "output_type": "stream",
     "text": [
      "---------------\n",
      "loss:     2.284106150622998\n",
      "gradient: 0.38871742213143445\n",
      "---------------\n",
      "---------------\n",
      "loss:     2.274714567877946\n",
      "gradient: 0.7549413638477845\n",
      "---------------\n",
      "---------------\n",
      "loss:     2.2551347804903368\n",
      "gradient: 0.6937209846201517\n",
      "---------------\n",
      "---------------\n",
      "loss:     2.0623735885305665\n",
      "gradient: 1.8055907765230534\n",
      "---------------\n",
      "---------------\n",
      "loss:     2.251819695803693\n",
      "gradient: 9.794596206089718\n",
      "---------------\n",
      "---------------\n",
      "loss:     1.9830905334845235\n",
      "gradient: 3.4430085278168865\n",
      "---------------\n",
      "---------------\n",
      "loss:     5.836004895742178\n",
      "gradient: 32.65021720319527\n",
      "---------------\n",
      "---------------\n",
      "loss:     1.8543916517086703\n",
      "gradient: 3.406467791537196\n",
      "---------------\n",
      "---------------\n",
      "loss:     18.258999380104537\n",
      "gradient: 64.16358146751186\n",
      "---------------\n",
      "---------------\n",
      "loss:     1.7978574173773154\n",
      "gradient: 3.0453386797562727\n",
      "---------------\n",
      "---------------\n",
      "loss:     1.9520800015528728\n",
      "gradient: 8.015132013652437\n",
      "---------------\n",
      "---------------\n",
      "loss:     1.7083840421342147\n",
      "gradient: 2.6653234427921024\n",
      "---------------\n",
      "---------------\n",
      "loss:     1.6912910917637132\n",
      "gradient: 3.9293364826775146\n",
      "---------------\n",
      "---------------\n",
      "loss:     1.6176201142380144\n",
      "gradient: 1.6316991715377838\n",
      "---------------\n",
      "---------------\n",
      "loss:     1.5544134065379365\n",
      "gradient: 1.5367760517654991\n",
      "---------------\n",
      "---------------\n",
      "loss:     1.5130695995792176\n",
      "gradient: 5.805386539700266\n",
      "---------------\n",
      "---------------\n",
      "loss:     1.4016580743454896\n",
      "gradient: 2.33432206243055\n",
      "---------------\n",
      "---------------\n",
      "loss:     1.349176968316895\n",
      "gradient: 3.215245629659751\n",
      "---------------\n",
      "---------------\n",
      "loss:     1.3098103132816044\n",
      "gradient: 3.260827595467435\n",
      "---------------\n",
      "---------------\n",
      "loss:     1.241061644371114\n",
      "gradient: 2.194951411139972\n",
      "---------------\n",
      "---------------\n",
      "loss:     1.1776637999753714\n",
      "gradient: 3.541329236711994\n",
      "---------------\n",
      "---------------\n",
      "loss:     1.0904124485539195\n",
      "gradient: 3.5856697199512935\n",
      "---------------\n",
      "---------------\n",
      "loss:     1.0200362080084344\n",
      "gradient: 1.7765025046801468\n",
      "---------------\n",
      "---------------\n",
      "loss:     0.9641818544139884\n",
      "gradient: 1.722782424331254\n",
      "---------------\n",
      "---------------\n",
      "loss:     0.9232626773079947\n",
      "gradient: 1.6341032790415395\n",
      "---------------\n",
      "---------------\n",
      "loss:     0.8726650235360177\n",
      "gradient: 1.7777359511048707\n",
      "---------------\n",
      "---------------\n",
      "loss:     0.8419209873409883\n",
      "gradient: 2.6974120552012955\n",
      "---------------\n",
      "---------------\n",
      "loss:     0.8048919278858845\n",
      "gradient: 1.568106432230307\n",
      "---------------\n",
      "---------------\n",
      "loss:     0.7390751214214244\n",
      "gradient: 2.42087306398471\n",
      "---------------\n",
      "---------------\n",
      "loss:     0.6700330023854449\n",
      "gradient: 2.533616570493462\n",
      "---------------\n",
      "---------------\n",
      "loss:     0.6171225266003121\n",
      "gradient: 2.7441726895741305\n",
      "---------------\n",
      "---------------\n",
      "loss:     0.5937221949122494\n",
      "gradient: 1.3963394355377052\n",
      "---------------\n",
      "---------------\n",
      "loss:     0.5846804507441984\n",
      "gradient: 1.191301686449671\n",
      "---------------\n",
      "---------------\n",
      "loss:     0.5473100808950447\n",
      "gradient: 1.2063080975000828\n",
      "---------------\n",
      "---------------\n",
      "loss:     0.4859112720271407\n",
      "gradient: 1.962262272575733\n",
      "---------------\n",
      "---------------\n",
      "loss:     0.47073111351878755\n",
      "gradient: 3.2090753292959557\n",
      "---------------\n",
      "---------------\n",
      "loss:     0.4273404340496994\n",
      "gradient: 1.099997780174419\n",
      "---------------\n",
      "---------------\n",
      "loss:     0.4151559609620312\n",
      "gradient: 0.7520263778083007\n",
      "---------------\n",
      "---------------\n",
      "loss:     0.3999051491445138\n",
      "gradient: 0.8542367202421381\n",
      "---------------\n",
      "---------------\n",
      "loss:     0.37751981566069204\n",
      "gradient: 0.9619376050173553\n",
      "---------------\n",
      "---------------\n",
      "loss:     0.33412747112298136\n",
      "gradient: 1.1629599671579325\n",
      "---------------\n",
      "---------------\n",
      "loss:     0.3517731179043751\n",
      "gradient: 3.1359911197624872\n",
      "---------------\n",
      "---------------\n",
      "loss:     0.3163405814805219\n",
      "gradient: 1.147010983807807\n",
      "---------------\n",
      "---------------\n",
      "loss:     0.2951434942799707\n",
      "gradient: 0.5587141875301769\n",
      "---------------\n",
      "---------------\n",
      "loss:     0.27302568448227377\n",
      "gradient: 0.6186727673674763\n",
      "---------------\n",
      "---------------\n",
      "loss:     0.26217076998736133\n",
      "gradient: 1.5064234419706888\n",
      "---------------\n",
      "---------------\n",
      "loss:     0.24983452736913433\n",
      "gradient: 0.6662378642421479\n",
      "---------------\n",
      "---------------\n",
      "loss:     0.24240657461644646\n",
      "gradient: 0.472371707644207\n",
      "---------------\n",
      "---------------\n",
      "loss:     0.2301546209905747\n",
      "gradient: 0.7154719676432139\n",
      "---------------\n",
      "---------------\n",
      "loss:     0.21711032551263276\n",
      "gradient: 0.8295721752255347\n",
      "---------------\n",
      "---------------\n",
      "loss:     0.2537996153572063\n",
      "gradient: 4.540399343004623\n",
      "---------------\n",
      "---------------\n",
      "loss:     0.2051626161501047\n",
      "gradient: 1.64109152748383\n",
      "---------------\n",
      "---------------\n",
      "loss:     0.1837725616157174\n",
      "gradient: 0.9392789721543674\n",
      "---------------\n",
      "---------------\n",
      "loss:     0.1704398752626713\n",
      "gradient: 0.438226899796013\n",
      "---------------\n",
      "---------------\n",
      "loss:     0.1617937363829364\n",
      "gradient: 0.35762925761415854\n",
      "---------------\n",
      "---------------\n",
      "loss:     0.15598349746266998\n",
      "gradient: 0.4783536798124674\n",
      "---------------\n",
      "---------------\n",
      "loss:     0.1456473443638198\n",
      "gradient: 0.4868300535543368\n",
      "---------------\n",
      "---------------\n",
      "loss:     0.1325763662691115\n",
      "gradient: 0.35009535392412644\n",
      "---------------\n",
      "---------------\n",
      "loss:     0.12098880034249437\n",
      "gradient: 0.3240724105941442\n",
      "---------------\n",
      "---------------\n",
      "loss:     0.11112631943342208\n",
      "gradient: 0.7180379986947859\n",
      "---------------\n",
      "---------------\n",
      "loss:     0.10438388535894914\n",
      "gradient: 0.6938105142315953\n",
      "---------------\n",
      "---------------\n",
      "loss:     0.09867230712878179\n",
      "gradient: 0.3474475700906396\n",
      "---------------\n",
      "---------------\n",
      "loss:     0.09273021736189783\n",
      "gradient: 0.24126332601917558\n",
      "---------------\n",
      "---------------\n",
      "loss:     0.08658921620193735\n",
      "gradient: 0.33594802841569804\n",
      "---------------\n",
      "---------------\n",
      "loss:     0.08206449662998093\n",
      "gradient: 0.6968604733190468\n",
      "---------------\n",
      "---------------\n",
      "loss:     0.0769030492047426\n",
      "gradient: 0.3061223895000123\n",
      "---------------\n",
      "---------------\n",
      "loss:     0.07465846483875153\n",
      "gradient: 0.2048993705155883\n",
      "---------------\n",
      "---------------\n",
      "loss:     0.0717762286429929\n",
      "gradient: 0.40076327124823957\n",
      "---------------\n",
      "---------------\n",
      "loss:     0.06848140543689017\n",
      "gradient: 0.33286277878955933\n",
      "---------------\n",
      "---------------\n",
      "loss:     0.059874878016727986\n",
      "gradient: 0.3410759837533947\n",
      "---------------\n",
      "---------------\n",
      "loss:     0.053993024036995754\n",
      "gradient: 0.5033756435487137\n",
      "---------------\n",
      "---------------\n",
      "loss:     0.0479017720959269\n",
      "gradient: 0.30214207524021086\n",
      "---------------\n",
      "---------------\n",
      "loss:     0.04406057636170584\n",
      "gradient: 0.2818198344092968\n",
      "---------------\n",
      "---------------\n",
      "loss:     0.0417755834638178\n",
      "gradient: 0.1974716371231237\n",
      "---------------\n",
      "---------------\n",
      "loss:     0.03907123672414503\n",
      "gradient: 0.21189097070807741\n",
      "---------------\n",
      "---------------\n",
      "loss:     0.03551276813705391\n",
      "gradient: 0.21457015815265196\n",
      "---------------\n",
      "---------------\n",
      "loss:     0.037351516963474454\n",
      "gradient: 0.8797719298181796\n",
      "---------------\n",
      "---------------\n",
      "loss:     0.03399338691794835\n",
      "gradient: 0.3430476507460736\n",
      "---------------\n",
      "---------------\n",
      "loss:     0.03114022675913593\n",
      "gradient: 0.23794027205341886\n",
      "---------------\n",
      "---------------\n",
      "loss:     0.027082359282362276\n",
      "gradient: 0.17851176975091235\n",
      "---------------\n",
      "---------------\n",
      "loss:     0.024732105869468463\n",
      "gradient: 0.39214840902233555\n",
      "---------------\n",
      "---------------\n",
      "loss:     0.021965545380549175\n",
      "gradient: 0.13516507453294932\n",
      "---------------\n",
      "---------------\n",
      "loss:     0.020840716496186705\n",
      "gradient: 0.11679013598525972\n",
      "---------------\n",
      "---------------\n",
      "loss:     0.018327247319178945\n",
      "gradient: 0.1905758428138172\n",
      "---------------\n",
      "---------------\n",
      "loss:     0.015259319605676959\n",
      "gradient: 0.20486559406858718\n",
      "---------------\n",
      "---------------\n",
      "loss:     0.012702215528515628\n",
      "gradient: 0.10832632549358202\n",
      "---------------\n",
      "---------------\n",
      "loss:     0.011018407052761399\n",
      "gradient: 0.15285383011039314\n",
      "---------------\n",
      "---------------\n",
      "loss:     0.009683608339464517\n",
      "gradient: 0.13015049425069755\n",
      "---------------\n",
      "---------------\n",
      "loss:     0.009036608467046488\n",
      "gradient: 0.10871758919325238\n",
      "---------------\n",
      "---------------\n",
      "loss:     0.007790431226029274\n",
      "gradient: 0.11205967270309516\n",
      "---------------\n",
      "---------------\n",
      "loss:     0.007126269287394889\n",
      "gradient: 0.18629452360897986\n",
      "---------------\n",
      "---------------\n",
      "loss:     0.006297575730444144\n",
      "gradient: 0.08371675336523249\n",
      "---------------\n",
      "---------------\n",
      "loss:     0.005673061632415654\n",
      "gradient: 0.05502442638887279\n",
      "---------------\n",
      "---------------\n",
      "loss:     0.004991803697696391\n",
      "gradient: 0.05922533515266172\n",
      "---------------\n",
      "---------------\n",
      "loss:     0.004220773108365473\n",
      "gradient: 0.07409040680933397\n",
      "---------------\n",
      "---------------\n",
      "loss:     0.0051071653418895135\n",
      "gradient: 0.33480694706382286\n",
      "---------------\n",
      "---------------\n",
      "loss:     0.003794085405925856\n",
      "gradient: 0.08159092143723103\n",
      "---------------\n",
      "---------------\n",
      "loss:     0.0033130708323066884\n",
      "gradient: 0.04556973060640341\n",
      "---------------\n",
      "---------------\n",
      "loss:     0.002822570277876351\n",
      "gradient: 0.04035678670816213\n",
      "---------------\n",
      "---------------\n",
      "loss:     0.00232997543024588\n",
      "gradient: 0.04069633023832756\n",
      "---------------\n",
      "---------------\n",
      "loss:     0.0019214758342670905\n",
      "gradient: 0.10372113759586123\n",
      "---------------\n",
      "---------------\n",
      "loss:     0.0013940435618445914\n",
      "gradient: 0.0289704060063072\n",
      "---------------\n",
      "---------------\n",
      "loss:     0.0012385978537173524\n",
      "gradient: 0.02330498391799943\n",
      "---------------\n",
      "---------------\n",
      "loss:     0.0009899237501269419\n",
      "gradient: 0.02106011079156318\n",
      "---------------\n",
      "---------------\n",
      "loss:     0.0007825942553734451\n",
      "gradient: 0.0458344521014963\n",
      "---------------\n",
      "---------------\n",
      "loss:     0.0005631606949302406\n",
      "gradient: 0.01727635066715658\n",
      "---------------\n",
      "---------------\n",
      "loss:     0.00048028727723857203\n",
      "gradient: 0.011862851597028936\n",
      "---------------\n",
      "---------------\n",
      "loss:     0.00037759682994648676\n",
      "gradient: 0.01843003777324911\n",
      "---------------\n",
      "---------------\n",
      "loss:     0.0002880628180945775\n",
      "gradient: 0.00714780256384636\n",
      "---------------\n",
      "---------------\n",
      "loss:     0.0002612888354973559\n",
      "gradient: 0.006891389374902391\n",
      "---------------\n",
      "---------------\n",
      "loss:     0.00017477745612068423\n",
      "gradient: 0.006222652035710119\n",
      "---------------\n",
      "---------------\n",
      "loss:     0.00011329707028913048\n",
      "gradient: 0.0079862267398862\n",
      "---------------\n",
      "---------------\n",
      "loss:     8.150263794028497e-05\n",
      "gradient: 0.0025336038396008313\n",
      "---------------\n",
      "---------------\n",
      "loss:     7.071611606412988e-05\n",
      "gradient: 0.001993939075447343\n",
      "---------------\n",
      "---------------\n",
      "loss:     5.452609724502735e-05\n",
      "gradient: 0.0019780198685622513\n",
      "---------------\n",
      "---------------\n",
      "loss:     6.152823064910676e-05\n",
      "gradient: 0.009018641071190077\n",
      "---------------\n",
      "---------------\n",
      "loss:     4.5954402550048804e-05\n",
      "gradient: 0.0025955754409849553\n",
      "---------------\n",
      "---------------\n",
      "loss:     3.757677693875859e-05\n",
      "gradient: 0.0014747254901054988\n",
      "---------------\n",
      "---------------\n",
      "loss:     2.8869101408274374e-05\n",
      "gradient: 0.0010667317408124665\n",
      "---------------\n",
      "---------------\n",
      "loss:     2.2712876252190377e-05\n",
      "gradient: 0.0008938101414305155\n",
      "---------------\n",
      "---------------\n",
      "loss:     1.9391764184017936e-05\n",
      "gradient: 0.0016038146740116387\n",
      "---------------\n",
      "---------------\n",
      "loss:     1.4408652913675846e-05\n",
      "gradient: 0.0006440341737019416\n",
      "---------------\n",
      "---------------\n",
      "loss:     1.1136690072921697e-05\n",
      "gradient: 0.0004013179173661266\n",
      "---------------\n",
      "---------------\n",
      "loss:     7.521904584288055e-06\n",
      "gradient: 0.00026622730175724084\n",
      "---------------\n",
      "---------------\n",
      "loss:     6.327344951902297e-06\n",
      "gradient: 0.0006850342278993227\n",
      "---------------\n",
      "---------------\n",
      "loss:     4.516999735579094e-06\n",
      "gradient: 0.00023360865281017872\n",
      "---------------\n",
      "---------------\n",
      "loss:     3.88464196397825e-06\n",
      "gradient: 0.00012928800565843967\n",
      "---------------\n",
      "---------------\n",
      "loss:     3.0412807836706746e-06\n",
      "gradient: 0.00012237254433936534\n",
      "---------------\n",
      "---------------\n",
      "loss:     1.7330406804956883e-06\n",
      "gradient: 7.818785013578763e-05\n",
      "---------------\n",
      "---------------\n",
      "loss:     1.3108676153490023e-06\n",
      "gradient: 0.00018494993792567743\n",
      "---------------\n",
      "---------------\n",
      "loss:     5.98767369917391e-07\n",
      "gradient: 4.91332820815188e-05\n",
      "---------------\n"
     ]
    }
   ],
   "source": [
    "res = minimize(\n",
    "    compute_loss_grad, weights,       # fun and start point\n",
    "    args=[network, X_train, y_train],  # args passed to fun\n",
    "    method=\"L-BFGS-B\",                # optimization method\n",
    "    jac=True                          # says that gradient is computed in fun\n",
    ")"
   ]
  },
  {
   "cell_type": "code",
   "execution_count": 424,
   "metadata": {
    "ExecuteTime": {
     "end_time": "2021-03-03T14:44:53.093332Z",
     "start_time": "2021-03-03T14:44:53.081402Z"
    },
    "hidden": true
   },
   "outputs": [
    {
     "data": {
      "text/plain": [
       "dict_keys(['fun', 'jac', 'nfev', 'njev', 'nit', 'status', 'message', 'x', 'success', 'hess_inv'])"
      ]
     },
     "execution_count": 424,
     "metadata": {},
     "output_type": "execute_result"
    }
   ],
   "source": [
    "res.keys()"
   ]
  },
  {
   "cell_type": "code",
   "execution_count": 425,
   "metadata": {
    "ExecuteTime": {
     "end_time": "2021-03-03T14:44:53.109290Z",
     "start_time": "2021-03-03T14:44:53.096325Z"
    },
    "hidden": true,
    "scrolled": true
   },
   "outputs": [
    {
     "data": {
      "text/plain": [
       "116"
      ]
     },
     "execution_count": 425,
     "metadata": {},
     "output_type": "execute_result"
    }
   ],
   "source": [
    "res[\"nit\"]  # number of iterations (should be >> 10)"
   ]
  },
  {
   "cell_type": "code",
   "execution_count": 426,
   "metadata": {
    "ExecuteTime": {
     "end_time": "2021-03-03T14:44:53.125246Z",
     "start_time": "2021-03-03T14:44:53.112286Z"
    },
    "hidden": true
   },
   "outputs": [
    {
     "data": {
      "text/plain": [
       "True"
      ]
     },
     "execution_count": 426,
     "metadata": {},
     "output_type": "execute_result"
    }
   ],
   "source": [
    "res[\"success\"]  # should be True"
   ]
  },
  {
   "cell_type": "code",
   "execution_count": 427,
   "metadata": {
    "ExecuteTime": {
     "end_time": "2021-03-03T14:44:53.140244Z",
     "start_time": "2021-03-03T14:44:53.128239Z"
    },
    "hidden": true
   },
   "outputs": [
    {
     "data": {
      "text/plain": [
       "array([ 0.00303703,  0.00210177, -0.00391365, ..., -0.59617367,\n",
       "       -1.59697341, -0.24425791])"
      ]
     },
     "execution_count": 427,
     "metadata": {},
     "output_type": "execute_result"
    }
   ],
   "source": [
    "res[\"x\"]  # leraned weights"
   ]
  },
  {
   "cell_type": "markdown",
   "metadata": {
    "hidden": true
   },
   "source": [
    "Выведите качество на обучении (`X_train`, `y_train`) и на контроле (`X_test`, `y_test`). Не забудьте установить веса!"
   ]
  },
  {
   "cell_type": "code",
   "execution_count": 433,
   "metadata": {
    "ExecuteTime": {
     "end_time": "2021-03-03T14:44:53.172124Z",
     "start_time": "2021-03-03T14:44:53.144212Z"
    },
    "hidden": true
   },
   "outputs": [
    {
     "name": "stdout",
     "output_type": "stream",
     "text": [
      "Train NLL: 0.0000006\t\tTest NLL: 0.8929787\n",
      "Train accuracy: 1.000\t\tTest accuracy: 0.949\n"
     ]
    }
   ],
   "source": [
    "# your code here\n",
    "from sklearn.metrics import accuracy_score\n",
    "set_weights(weights=res[\"x\"], network=network)\n",
    "\n",
    "train_NLL = NLL(forward(network, X_train), y_train)\n",
    "test_NLL = NLL(forward(network, X_test), y_test)\n",
    "\n",
    "print(f\"Train NLL: {train_NLL:.7f}\\t\\tTest NLL: {test_NLL:.7f}\")\n",
    "\n",
    "train_accuracy = accuracy_score(\n",
    "    y_true=y_train, y_pred=predict(network, X_train))\n",
    "test_accuracy = accuracy_score(y_true=y_test, y_pred=predict(network, X_test))\n",
    "\n",
    "print(f\"Train accuracy: {train_accuracy:.3f}\\t\\tTest accuracy: {\n",
    "      test_accuracy:.3f}\")"
   ]
  },
  {
   "cell_type": "markdown",
   "metadata": {
    "hidden": true
   },
   "source": [
    "У `minimize` есть также аргумент `callback` — в нее можно передать функцию, которая будет вызываться после каждой итерации оптимизации. Такую функцию удобно оформить в виде метода класса, который будет сохранять качество на обучении контроле после каждой итерации. Реализуйте этот метод в классе `Callback`:"
   ]
  },
  {
   "cell_type": "code",
   "execution_count": 35,
   "metadata": {
    "ExecuteTime": {
     "end_time": "2021-03-03T14:44:53.188082Z",
     "start_time": "2021-03-03T14:44:53.175117Z"
    },
    "hidden": true
   },
   "outputs": [],
   "source": [
    "class Callback:\n",
    "    def __init__(self, network, X_train, y_train, X_test, y_test, print=False):\n",
    "        self.network = network\n",
    "        self.X_train = X_train\n",
    "        self.X_test = X_test\n",
    "        self.y_train = y_train\n",
    "        self.y_test = y_test\n",
    "        self.print = print\n",
    "        self.train_acc = []\n",
    "        self.test_acc = []\n",
    "\n",
    "    def call(self, weights):\n",
    "        \"\"\"\n",
    "        Computes quality on train and test set with given weights\n",
    "        and saves to self.train_acc and self.test_acc.\n",
    "        If self.print is True, also prints these 2 values\n",
    "        \"\"\"\n",
    "        # your code here"
   ]
  },
  {
   "cell_type": "code",
   "execution_count": 36,
   "metadata": {
    "ExecuteTime": {
     "end_time": "2021-03-03T14:44:54.497924Z",
     "start_time": "2021-03-03T14:44:53.191074Z"
    },
    "hidden": true
   },
   "outputs": [],
   "source": [
    "cb = Callback(network, X_train, y_train, X_test, y_test, print=True)\n",
    "\n",
    "res = minimize(\n",
    "    compute_loss_grad, weights,\n",
    "    args=[network, X_train, y_train],\n",
    "    method=\"L-BFGS-B\",\n",
    "    jac=True,\n",
    "    callback=cb.call\n",
    ")"
   ]
  },
  {
   "cell_type": "markdown",
   "metadata": {
    "hidden": true
   },
   "source": [
    "Изобразите на графике кривую качества на обучени и контроле по итерациям:"
   ]
  },
  {
   "cell_type": "code",
   "execution_count": 37,
   "metadata": {
    "ExecuteTime": {
     "end_time": "2021-03-03T14:44:54.816117Z",
     "start_time": "2021-03-03T14:44:54.500922Z"
    },
    "hidden": true
   },
   "outputs": [
    {
     "data": {
      "image/png": "[encoded data removed]",
      "text/plain": [
       "<Figure size 720x360 with 1 Axes>"
      ]
     },
     "metadata": {
      "needs_background": "light"
     },
     "output_type": "display_data"
    }
   ],
   "source": [
    "fig, ax = plt.subplots(1, 1, figsize=(10, 5))\n",
    "ax.plot(cb.train_acc, label=\"train acc\")\n",
    "ax.plot(cb.test_acc, label=\"test acc\")\n",
    "ax.set_xlabel(\"Iteration\")\n",
    "ax.set_ylabel(\"Accuracy\")\n",
    "ax.grid(True)\n",
    "ax.legend()\n",
    "\n",
    "fig.tight_layout()\n",
    "plt.show()"
   ]
  },
  {
   "cell_type": "markdown",
   "metadata": {
    "heading_collapsed": true,
    "hidden": true
   },
   "source": [
    "### `Эксперименты с числом слоев (0.6 балла)`"
   ]
  },
  {
   "cell_type": "markdown",
   "metadata": {
    "hidden": true
   },
   "source": [
    "Ясно, что из-за случайного начального приближения с каждым запуском обучения мы будем получать различное качество. Попробуем обучить нашу нейросеть с разным числом слоев несколько раз.\n",
    "\n",
    "Заполните матрицы `accs_train` и `accs_test`. В позиции `[i, j]` должна стоять величина доли правильных ответов сети с $i+1$ полносвязными слоями при $j$-м запуске (все запуски идентичны)."
   ]
  },
  {
   "cell_type": "code",
   "execution_count": 38,
   "metadata": {
    "ExecuteTime": {
     "end_time": "2021-03-03T14:44:54.832074Z",
     "start_time": "2021-03-03T14:44:54.819071Z"
    },
    "hidden": true
   },
   "outputs": [],
   "source": [
    "accs_train = np.zeros((5, 5))\n",
    "accs_test = np.zeros((5, 5))"
   ]
  },
  {
   "cell_type": "code",
   "execution_count": 39,
   "metadata": {
    "ExecuteTime": {
     "end_time": "2021-03-03T14:45:56.444624Z",
     "start_time": "2021-03-03T14:44:54.836024Z"
    },
    "hidden": true
   },
   "outputs": [],
   "source": [
    "# your code here"
   ]
  },
  {
   "cell_type": "markdown",
   "metadata": {
    "hidden": true
   },
   "source": [
    "Построим боксплоты полученного качества (горизонтальная линия в каждом столбце — среднее, прямоугольник показывает разброс)."
   ]
  },
  {
   "cell_type": "code",
   "execution_count": 40,
   "metadata": {
    "ExecuteTime": {
     "end_time": "2021-03-03T14:45:57.060827Z",
     "start_time": "2021-03-03T14:45:56.447467Z"
    },
    "collapsed": true,
    "hidden": true
   },
   "outputs": [
    {
     "data": {
      "image/png": "[encoded data removed]",
      "text/plain": [
       "<Figure size 720x576 with 2 Axes>"
      ]
     },
     "metadata": {
      "needs_background": "light"
     },
     "output_type": "display_data"
    }
   ],
   "source": [
    "fig, axes = plt.subplots(2, 1, figsize=(10, 8))\n",
    "\n",
    "axes[0].boxplot(accs_train.T, showfliers=False)\n",
    "axes[1].boxplot(accs_test.T, showfliers=False)\n",
    "\n",
    "axes[0].set_xlabel(\"Number of layers\")\n",
    "axes[1].set_xlabel(\"Number of layers\")\n",
    "\n",
    "axes[0].set_ylabel(\"Train accuracy\")\n",
    "axes[1].set_ylabel(\"Test accuracy\")\n",
    "\n",
    "axes[0].set_title(\"Train quality in 5 runs\")\n",
    "axes[1].set_title(\"Test quality in 5 runs\")\n",
    "\n",
    "axes[0].grid(True)\n",
    "axes[1].grid(True)\n",
    "\n",
    "fig.tight_layout()\n",
    "plt.show()"
   ]
  },
  {
   "cell_type": "markdown",
   "metadata": {
    "hidden": true
   },
   "source": [
    "Дайте развёрнутый ответ на вопросы (в этой же ячейке):\n",
    "* Как изменяются качество на обучении и контроле и устойчивость процесса обучения при увеличении числа слоев?\n",
    "* Можно ли сказать, что логистическая регрессия (линейная модель) дает качество хуже, чем нелинейная модель?\n",
    "\n",
    "__Ответы:__\n",
    "\n",
    "..."
   ]
  },
  {
   "cell_type": "markdown",
   "metadata": {
    "heading_collapsed": true,
    "hidden": true
   },
   "source": [
    "### `Эксперименты c различными инициализациями весов (0.6 балла)`"
   ]
  },
  {
   "cell_type": "markdown",
   "metadata": {
    "hidden": true
   },
   "source": [
    "Как уже было сказано, начальная инициализация весов нейронной сети может сильно влиять на процесс ее обучения и, как следствие, на ее качество.\n",
    "\n",
    "В этом пункте вам предлагается попробовать обучить несколько нейронных сетей с различными инициализациями слоев.\n",
    "\n",
    "Для этого необходимо реализовать функцию, инициализирующую веса линейных слоёв нашей нейронной сети. Добавьте в функционал данного метода возможность инициализировать его веса с помощью инициализации Kaiming (используется, если в нейронной сети в качестве функций активации используется ReLU) и инициализации Xavier (используется, если в нейронной сети в качестве функций активации используется Tanh или Sigmoid):"
   ]
  },
  {
   "cell_type": "code",
   "execution_count": 41,
   "metadata": {
    "ExecuteTime": {
     "end_time": "2021-03-03T14:45:57.075786Z",
     "start_time": "2021-03-03T14:45:57.063819Z"
    },
    "code_folding": [],
    "hidden": true
   },
   "outputs": [],
   "source": [
    "def initialize_network(network, initialization):\n",
    "    for layer in network:\n",
    "        if isinstance(layer, Dense):\n",
    "            input_units, output_units = layer.weights.shape\n",
    "            if initialization == 'Kaiming':\n",
    "                # your code here\n",
    "                pass\n",
    "            elif initialization == 'Xavier':\n",
    "                # your code here\n",
    "                pass\n",
    "            else:\n",
    "                # Initialize weights with small random numbers from normal distribution.\n",
    "                # In this case `initialization` represents a standard deviation\n",
    "                # for normal distribution.\n",
    "                layer.weights = np.random.randn(\n",
    "                    input_units, output_units) * initialization\n",
    "            layer.biases = np.zeros_like(layer.biases)\n",
    "\n",
    "            layer.params = [layer.weights, layer.biases]"
   ]
  },
  {
   "cell_type": "markdown",
   "metadata": {
    "hidden": true
   },
   "source": [
    "Теперь попробуйте для каждой из 3 инициализаций обучить нейронную сеть несколько раз. Попробуйте проделать данную операцию при зафиксированном числе слоев равным 3, 4 и 5."
   ]
  },
  {
   "cell_type": "markdown",
   "metadata": {
    "heading_collapsed": true,
    "hidden": true
   },
   "source": [
    "#### `3 слоя`\n",
    "\n",
    "Зафиксируйте в сети число слоев равное трем."
   ]
  },
  {
   "cell_type": "markdown",
   "metadata": {
    "hidden": true
   },
   "source": [
    "Заполните матрицы `accs_train` и `accs_test`. В позиции `[i, j]` должна стоять величина доли правильных ответов сети при $j$-м запуске (все запуски идентичны) с инициализацией Kaiming при $i = 3$, с инициализацией Xavier при $i = 4$ и с инициализацией из нормального распределения с фиксированными параметрами при $0 \\leqslant i \\leqslant 2$ (попробуйте здесь 3 разных параметра для стандартного отклонения для нормального распределения, например: `1e-3`, `1e-2`, `1e-1`). Заметьте, что при большом числе слоев слишком низкое стандартное отклонение может не давать нейронной сети нормально обучиться."
   ]
  },
  {
   "cell_type": "code",
   "execution_count": 61,
   "metadata": {
    "ExecuteTime": {
     "end_time": "2021-03-03T14:45:57.091744Z",
     "start_time": "2021-03-03T14:45:57.079777Z"
    },
    "hidden": true
   },
   "outputs": [],
   "source": [
    "init_vars = [1e-3, 1e-2, 1e-1, 'Kaiming', 'Xavier']"
   ]
  },
  {
   "cell_type": "code",
   "execution_count": 62,
   "metadata": {
    "ExecuteTime": {
     "end_time": "2021-03-03T14:45:57.107701Z",
     "start_time": "2021-03-03T14:45:57.094737Z"
    },
    "hidden": true
   },
   "outputs": [],
   "source": [
    "accs_train = np.zeros((5, 5))\n",
    "accs_test = np.zeros((5, 5))"
   ]
  },
  {
   "cell_type": "code",
   "execution_count": 63,
   "metadata": {
    "ExecuteTime": {
     "end_time": "2021-03-03T14:46:27.904407Z",
     "start_time": "2021-03-03T14:45:57.111690Z"
    },
    "hidden": true
   },
   "outputs": [],
   "source": [
    "# your code here"
   ]
  },
  {
   "cell_type": "markdown",
   "metadata": {
    "hidden": true
   },
   "source": [
    "Построим боксплоты полученного качества (горизонтальная линия в каждом столбце — среднее, прямоугольник показывает разброс)."
   ]
  },
  {
   "cell_type": "code",
   "execution_count": 64,
   "metadata": {
    "ExecuteTime": {
     "end_time": "2021-03-03T14:46:28.632502Z",
     "start_time": "2021-03-03T14:46:27.907401Z"
    },
    "hidden": true,
    "scrolled": false
   },
   "outputs": [
    {
     "data": {
      "image/png": "[encoded data removed]",
      "text/plain": [
       "<Figure size 720x360 with 1 Axes>"
      ]
     },
     "metadata": {
      "needs_background": "light"
     },
     "output_type": "display_data"
    }
   ],
   "source": [
    "init_vars_for_plot = [\n",
    "    (x if isinstance(x, str) else fr\"$\\sigma = {x}$\") for x in init_vars]\n",
    "\n",
    "fig, ax = plt.subplots(1, 1, figsize=(10, 5))\n",
    "\n",
    "ax.boxplot(accs_test.T, labels=init_vars_for_plot, showfliers=False)\n",
    "\n",
    "ax.set_title(\"Test quality in 5 runs\")\n",
    "ax.set_xlabel(\"Initialization\")\n",
    "ax.set_ylabel(\"Test accuracy\")\n",
    "ax.grid(True)\n",
    "\n",
    "fig.tight_layout()\n",
    "plt.show()"
   ]
  },
  {
   "cell_type": "markdown",
   "metadata": {
    "heading_collapsed": true,
    "hidden": true
   },
   "source": [
    "#### `4 слоя`\n",
    "\n",
    "Выполните тут тот же код, что и в предыдущем пункте, но только уже с 4 слоями в сети."
   ]
  },
  {
   "cell_type": "code",
   "execution_count": 65,
   "metadata": {
    "ExecuteTime": {
     "end_time": "2021-03-03T14:45:57.091744Z",
     "start_time": "2021-03-03T14:45:57.079777Z"
    },
    "hidden": true
   },
   "outputs": [],
   "source": [
    "init_vars = [5e-3, 1e-2, 1e-1, 'Kaiming', 'Xavier']"
   ]
  },
  {
   "cell_type": "code",
   "execution_count": 66,
   "metadata": {
    "ExecuteTime": {
     "end_time": "2021-03-03T14:45:57.107701Z",
     "start_time": "2021-03-03T14:45:57.094737Z"
    },
    "hidden": true
   },
   "outputs": [],
   "source": [
    "accs_train = np.zeros((5, 5))\n",
    "accs_test = np.zeros((5, 5))"
   ]
  },
  {
   "cell_type": "code",
   "execution_count": 67,
   "metadata": {
    "ExecuteTime": {
     "end_time": "2021-03-03T14:46:27.904407Z",
     "start_time": "2021-03-03T14:45:57.111690Z"
    },
    "hidden": true
   },
   "outputs": [],
   "source": [
    "# your code here"
   ]
  },
  {
   "cell_type": "markdown",
   "metadata": {
    "hidden": true
   },
   "source": [
    "Построим боксплоты полученного качества (горизонтальная линия в каждом столбце — среднее, прямоугольник показывает разброс)."
   ]
  },
  {
   "cell_type": "code",
   "execution_count": 68,
   "metadata": {
    "ExecuteTime": {
     "end_time": "2021-03-03T14:46:28.632502Z",
     "start_time": "2021-03-03T14:46:27.907401Z"
    },
    "hidden": true,
    "scrolled": false
   },
   "outputs": [
    {
     "data": {
      "image/png": "[encoded data removed]",
      "text/plain": [
       "<Figure size 720x360 with 1 Axes>"
      ]
     },
     "metadata": {
      "needs_background": "light"
     },
     "output_type": "display_data"
    }
   ],
   "source": [
    "init_vars_for_plot = [\n",
    "    (x if isinstance(x, str) else fr\"$\\sigma = {x}$\") for x in init_vars]\n",
    "\n",
    "fig, ax = plt.subplots(1, 1, figsize=(10, 5))\n",
    "\n",
    "ax.boxplot(accs_test.T, labels=init_vars_for_plot, showfliers=False)\n",
    "\n",
    "ax.set_title(\"Test quality in 5 runs\")\n",
    "ax.set_xlabel(\"Initialization\")\n",
    "ax.set_ylabel(\"Test accuracy\")\n",
    "ax.grid(True)\n",
    "\n",
    "fig.tight_layout()\n",
    "plt.show()"
   ]
  },
  {
   "cell_type": "markdown",
   "metadata": {
    "heading_collapsed": true,
    "hidden": true
   },
   "source": [
    "#### `5 слоев`\n",
    "\n",
    "Выполните тут тот же код, что и в предыдущем пункте, но только уже с 5 слоями в сети."
   ]
  },
  {
   "cell_type": "code",
   "execution_count": 69,
   "metadata": {
    "ExecuteTime": {
     "end_time": "2021-03-03T14:45:57.091744Z",
     "start_time": "2021-03-03T14:45:57.079777Z"
    },
    "hidden": true
   },
   "outputs": [],
   "source": [
    "init_vars = [1e-2, 1e-1, 1e0, 'Kaiming', 'Xavier']"
   ]
  },
  {
   "cell_type": "code",
   "execution_count": 70,
   "metadata": {
    "ExecuteTime": {
     "end_time": "2021-03-03T14:45:57.107701Z",
     "start_time": "2021-03-03T14:45:57.094737Z"
    },
    "hidden": true
   },
   "outputs": [],
   "source": [
    "accs_train = np.zeros((5, 5))\n",
    "accs_test = np.zeros((5, 5))"
   ]
  },
  {
   "cell_type": "code",
   "execution_count": 71,
   "metadata": {
    "ExecuteTime": {
     "end_time": "2021-03-03T14:46:27.904407Z",
     "start_time": "2021-03-03T14:45:57.111690Z"
    },
    "hidden": true
   },
   "outputs": [],
   "source": [
    "# your code here"
   ]
  },
  {
   "cell_type": "markdown",
   "metadata": {
    "hidden": true
   },
   "source": [
    "Построим боксплоты полученного качества (горизонтальная линия в каждом столбце — среднее, прямоугольник показывает разброс)."
   ]
  },
  {
   "cell_type": "code",
   "execution_count": 72,
   "metadata": {
    "ExecuteTime": {
     "end_time": "2021-03-03T14:46:28.632502Z",
     "start_time": "2021-03-03T14:46:27.907401Z"
    },
    "hidden": true,
    "scrolled": false
   },
   "outputs": [
    {
     "data": {
      "image/png": "[encoded data removed]",
      "text/plain": [
       "<Figure size 720x360 with 1 Axes>"
      ]
     },
     "metadata": {
      "needs_background": "light"
     },
     "output_type": "display_data"
    }
   ],
   "source": [
    "init_vars_for_plot = [\n",
    "    (x if isinstance(x, str) else fr\"$\\sigma = {x}$\") for x in init_vars]\n",
    "\n",
    "fig, ax = plt.subplots(1, 1, figsize=(10, 5))\n",
    "\n",
    "ax.boxplot(accs_test.T, labels=init_vars_for_plot, showfliers=False)\n",
    "\n",
    "ax.set_title(\"Test quality in 5 runs\")\n",
    "ax.set_xlabel(\"Initialization\")\n",
    "ax.set_ylabel(\"Test accuracy\")\n",
    "ax.grid(True)\n",
    "\n",
    "fig.tight_layout()\n",
    "plt.show()"
   ]
  },
  {
   "cell_type": "markdown",
   "metadata": {
    "hidden": true
   },
   "source": [
    "Дайте развёрнутый ответ на вопросы (в этой же ячейке):\n",
    "* Как отличаются качество на обучении и контроле и устойчивость процесса обучения при различных инициализациях?\n",
    "* Какие инициализации помогают обучать более глубокие сети?\n",
    "\n",
    "__Ответы:__\n",
    "\n",
    "..."
   ]
  },
  {
   "cell_type": "markdown",
   "metadata": {
    "hidden": true
   },
   "source": [
    "Теперь сравним скорость обучения при различных инициализациях. Создайте два списка списков `accs_test_on_iterations`, `accs_train_on_iterations` в каждом из которых в позиции `[i]` (см. описание `i` в предыдущем пункте) будет лежать список из значений `accuracy` на тестовой и обучающей выборках соотвественно, полученных во время обучения модели. Количество слоев в сети зафиксируйте равным 4."
   ]
  },
  {
   "cell_type": "code",
   "execution_count": 75,
   "metadata": {
    "ExecuteTime": {
     "end_time": "2021-03-03T14:45:57.091744Z",
     "start_time": "2021-03-03T14:45:57.079777Z"
    },
    "hidden": true
   },
   "outputs": [],
   "source": [
    "init_vars = [1e-3, 1e-2, 1e-1, 'Kaiming', 'Xavier']"
   ]
  },
  {
   "cell_type": "code",
   "execution_count": 76,
   "metadata": {
    "ExecuteTime": {
     "end_time": "2021-03-03T14:46:28.647453Z",
     "start_time": "2021-03-03T14:46:28.635495Z"
    },
    "hidden": true
   },
   "outputs": [],
   "source": [
    "accs_test_on_iterations = []\n",
    "accs_train_on_iterations = []"
   ]
  },
  {
   "cell_type": "code",
   "execution_count": 77,
   "metadata": {
    "ExecuteTime": {
     "end_time": "2021-03-03T14:46:34.433662Z",
     "start_time": "2021-03-03T14:46:28.650417Z"
    },
    "hidden": true
   },
   "outputs": [],
   "source": [
    "# your code here"
   ]
  },
  {
   "cell_type": "code",
   "execution_count": 78,
   "metadata": {
    "ExecuteTime": {
     "end_time": "2021-03-03T14:46:34.875348Z",
     "start_time": "2021-03-03T14:46:34.436663Z"
    },
    "hidden": true
   },
   "outputs": [
    {
     "data": {
      "image/png": "[encoded data removed]",
      "text/plain": [
       "<Figure size 720x360 with 1 Axes>"
      ]
     },
     "metadata": {
      "needs_background": "light"
     },
     "output_type": "display_data"
    }
   ],
   "source": [
    "fig, ax = plt.subplots(1, 1, figsize=(10, 5))\n",
    "\n",
    "for idx, label in enumerate(init_vars_for_plot):\n",
    "    ax.plot(accs_test_on_iterations[idx], label=label)\n",
    "\n",
    "ax.set_title(\"Test quality for different initializations\")\n",
    "ax.set_xlabel(\"Epoch number\")\n",
    "ax.set_ylabel(\"Test accuracy\")\n",
    "ax.grid(True)\n",
    "ax.legend()\n",
    "\n",
    "fig.tight_layout()\n",
    "plt.show()"
   ]
  },
  {
   "cell_type": "markdown",
   "metadata": {
    "ExecuteTime": {
     "end_time": "2021-03-03T14:37:15.087902Z",
     "start_time": "2021-03-03T14:37:15.065996Z"
    },
    "hidden": true
   },
   "source": [
    "Дайте развёрнутый ответ на вопросы (в этой же ячейке):\n",
    "* Как меняется скорость обучения в зависимости от выбранной инициализации?\n",
    "\n",
    "__Ответы:__\n",
    "\n",
    "..."
   ]
  },
  {
   "cell_type": "markdown",
   "metadata": {
    "heading_collapsed": true,
    "hidden": true
   },
   "source": [
    "### `Эксперименты c различными функциями активации (0.6 балла)`"
   ]
  },
  {
   "cell_type": "markdown",
   "metadata": {
    "hidden": true
   },
   "source": [
    "Проверим теперь, с какой функцией активации нейронная сеть будет обучаться лучше.\n",
    "\n",
    "В этом пункте вам предлагается попробовать обучить несколько нейронных сетей с различными функциями активации.\n",
    "\n",
    "Для этого нам нужно реализовать еще 2 слоя: для функций активации `Tanh` и `Sigmoid`."
   ]
  },
  {
   "cell_type": "code",
   "execution_count": 49,
   "metadata": {
    "ExecuteTime": {
     "end_time": "2021-03-03T14:46:34.891308Z",
     "start_time": "2021-03-03T14:46:34.878379Z"
    },
    "hidden": true
   },
   "outputs": [],
   "source": [
    "class Tanh:\n",
    "    \"\"\"\n",
    "    tanh(y) = (e^y - e^(-y)) / (e^y + e^(-y))\n",
    "    Используйте функцию np.tanh для подсчета гиперболического тангенса.\n",
    "    Вы можете сами реализовать подсчет tanh, но тогда вам нужно устойчиво его вычислять.\n",
    "    \"\"\"\n",
    "\n",
    "    def __init__(self):\n",
    "        self.params = []  # Tanh has no parameters\n",
    "\n",
    "    def forward(self, input):\n",
    "        \"\"\"\n",
    "        Apply elementwise Tanh to [batch, num_units] matrix\n",
    "        \"\"\"\n",
    "        # your code here\n",
    "\n",
    "    def backward(self, grad_output):\n",
    "        \"\"\"\n",
    "        Compute gradient of loss w.r.t. Tanh input\n",
    "        grad_output shape: [batch, num_units]\n",
    "        output 1 shape: [batch, num_units]\n",
    "        output 2: []\n",
    "        \"\"\"\n",
    "        # your code here\n",
    "\n",
    "    def __repr__(self):\n",
    "        return 'Tanh()'"
   ]
  },
  {
   "cell_type": "code",
   "execution_count": 50,
   "metadata": {
    "ExecuteTime": {
     "end_time": "2021-03-03T14:46:34.907337Z",
     "start_time": "2021-03-03T14:46:34.894300Z"
    },
    "hidden": true
   },
   "outputs": [],
   "source": [
    "from scipy.special import expit\n",
    "\n",
    "\n",
    "class Sigmoid:\n",
    "    \"\"\"\n",
    "    sigmoid(y) = 1 / (1 + e^(-y))\n",
    "    Используйте функцию expit для подсчета сигмоиды.\n",
    "    Вы можете сами реализовать подсчет сигмоиды, но тогда вам нужно устойчиво ее вычислять.\n",
    "    \"\"\"\n",
    "\n",
    "    def __init__(self):\n",
    "        self.params = []  # Sigmoid has no parameters\n",
    "\n",
    "    def forward(self, input):\n",
    "        \"\"\"\n",
    "        Apply elementwise Sigmoid to [batch, num_units] matrix\n",
    "        \"\"\"\n",
    "        # your code here\n",
    "\n",
    "    def backward(self, grad_output):\n",
    "        \"\"\"\n",
    "        Compute gradient of loss w.r.t. Sigmoid input\n",
    "        grad_output shape: [batch, num_units]\n",
    "        output 1 shape: [batch, num_units]\n",
    "        output 2: []\n",
    "        \"\"\"\n",
    "        # your code here\n",
    "\n",
    "    def __repr__(self):\n",
    "        return 'Sigmoid()'"
   ]
  },
  {
   "cell_type": "markdown",
   "metadata": {
    "hidden": true
   },
   "source": [
    "Теперь попробуйте для каждой из 3 функций активации обучить нейронную сеть несколько раз. Число слоев зафиксируйте равным 3. В случае `Tanh` и `Sigmoid` используйте инициализацию `Xavier`, а в случае `ReLU` используйте инициализацию `Kaiming`."
   ]
  },
  {
   "cell_type": "markdown",
   "metadata": {
    "hidden": true
   },
   "source": [
    "Заполните матрицы `accs_train` и `accs_test`. В позиции `[i, j]` должна стоять величина доли правильных ответов сети при $j$-м запуске (все запуски идентичны) с функцией активации $ReLU$ при $i = 0$, с функцией активации $Tanh$ при $i = 1$ и с функцией активации $Sigmoid$ при $i = 2$."
   ]
  },
  {
   "cell_type": "code",
   "execution_count": 51,
   "metadata": {
    "ExecuteTime": {
     "end_time": "2021-03-03T14:46:34.922732Z",
     "start_time": "2021-03-03T14:46:34.910271Z"
    },
    "hidden": true
   },
   "outputs": [],
   "source": [
    "act_func_vars = ['Tanh', 'Sigmoid', 'ReLU']\n",
    "init_for_act_funcs = ['Xavier', 'Xavier', 'Kaiming']"
   ]
  },
  {
   "cell_type": "code",
   "execution_count": 52,
   "metadata": {
    "ExecuteTime": {
     "end_time": "2021-03-03T14:46:34.938935Z",
     "start_time": "2021-03-03T14:46:34.925724Z"
    },
    "hidden": true
   },
   "outputs": [],
   "source": [
    "accs_train = np.zeros((3, 5))\n",
    "accs_test = np.zeros((3, 5))"
   ]
  },
  {
   "cell_type": "code",
   "execution_count": 53,
   "metadata": {
    "ExecuteTime": {
     "end_time": "2021-03-03T14:47:04.514986Z",
     "start_time": "2021-03-03T14:46:34.941104Z"
    },
    "hidden": true
   },
   "outputs": [],
   "source": [
    "# your code here"
   ]
  },
  {
   "cell_type": "markdown",
   "metadata": {
    "hidden": true
   },
   "source": [
    "Построим боксплоты полученного качества (горизонтальная линия в каждом столбце — среднее, прямоугольник показывает разброс)."
   ]
  },
  {
   "cell_type": "code",
   "execution_count": 54,
   "metadata": {
    "ExecuteTime": {
     "end_time": "2021-03-03T14:47:04.783320Z",
     "start_time": "2021-03-03T14:47:04.517701Z"
    },
    "hidden": true
   },
   "outputs": [
    {
     "data": {
      "image/png": "[encoded data removed]",
      "text/plain": [
       "<Figure size 720x360 with 1 Axes>"
      ]
     },
     "metadata": {
      "needs_background": "light"
     },
     "output_type": "display_data"
    }
   ],
   "source": [
    "fig, ax = plt.subplots(1, 1, figsize=(10, 5))\n",
    "\n",
    "ax.boxplot(accs_test.T, labels=act_func_vars, showfliers=False)\n",
    "\n",
    "ax.set_title(\"Test quality in 5 runs\")\n",
    "ax.set_xlabel(\"Activation function\")\n",
    "ax.set_ylabel(\"Test accuracy\")\n",
    "ax.grid(True)\n",
    "\n",
    "fig.tight_layout()\n",
    "plt.show()"
   ]
  },
  {
   "cell_type": "markdown",
   "metadata": {
    "hidden": true
   },
   "source": [
    "Дайте развёрнутый ответ на вопросы (в этой же ячейке):\n",
    "* Как отличаются качество на обучении и контроле и устойчивость процесса обучения при различных функциях активации?\n",
    "\n",
    "__Ответы:__\n",
    "\n",
    "..."
   ]
  },
  {
   "cell_type": "markdown",
   "metadata": {
    "hidden": true
   },
   "source": [
    "\\* Несколько фрагментов кода в задании написаны на основе материалов [курса по глубинному обучению на ФКН НИУ ВШЭ](https://www.hse.ru/ba/ami/courses/205504078.html)"
   ]
  },
  {
   "cell_type": "markdown",
   "metadata": {},
   "source": [
    "### `Реализация метода оптимизации (1.4 балла)`"
   ]
  },
  {
   "cell_type": "markdown",
   "metadata": {},
   "source": [
    "В этой части задания реализуйте метод оптимизации SGD + momentum. Упрощённая версия более общего алгоритма [отсюда](https://pytorch.org/docs/stable/generated/torch.optim.SGD.html):\n",
    "\n",
    "$$\n",
    "\\begin{aligned}\n",
    "    &\\rule{70mm}{0.4pt}                                                             \\\\\n",
    "    &\\textbf{input}      : \\gamma \\text{ (lr)}, \\: \\theta_0 \\text{ (params)}, \\: X \\text{ (data)},       \\\\\n",
    "    &\\hspace{13mm} \\: f(\\theta) \\text{ (objective)}, \\:\\mu \\text{ (momentum)}       \\\\[-1.ex]\n",
    "    &\\rule{70mm}{0.4pt}                                                             \\\\\n",
    "    &\\textbf{for} \\: t=1 \\: \\textbf{to} \\: \\ldots \\: \\textbf{do}                    \\\\\n",
    "    &\\hspace{5mm}\\mathcal{X} \\leftarrow \\texttt{list\\_of\\_random\\_batches}(X)\\\\\n",
    "    &\\hspace{5mm}\\textbf{for} \\: i=1 \\: \\textbf{to} \\: \\ldots \\: \\textbf{do}                    \\\\\n",
    "    &\\hspace{10mm}g_t\\leftarrow   \\nabla_{\\theta} f_t (\\theta_{t-1},\\mathcal{X}_i)      \\\\\n",
    "    &\\hspace{10mm}\\textbf{if} \\: \\mu \\neq 0                                          \\\\\n",
    "    &\\hspace{15mm}\\textbf{if} \\: t > 1                                              \\\\\n",
    "    &\\hspace{20mm} \\textbf{b}_t \\leftarrow \\mu \\textbf{b}_{t-1} + g_t               \\\\\n",
    "    &\\hspace{15mm}\\textbf{else}                                                     \\\\\n",
    "    &\\hspace{20mm} \\textbf{b}_t \\leftarrow g_t                                      \\\\\n",
    "    &\\hspace{15mm} g_t  \\leftarrow  \\textbf{b}_t                                     \\\\\n",
    "    &\\hspace{10mm}\\theta_t \\leftarrow \\theta_{t-1} - \\gamma g_t                      \\\\[-1.ex]\n",
    "    &\\rule{70mm}{0.4pt}                                                             \\\\[-1.ex]\n",
    "    &\\bf{return} \\:  \\theta_t                                                       \\\\[-1.ex]\n",
    "    &\\rule{70mm}{0.4pt}                                                             \\\\[-1.ex]\n",
    "\\end{aligned}\n",
    "$$\n",
    "\n",
    "Проще всего будет написать `custom minimizer` (смотри [документацию scipy](https://docs.scipy.org/doc/scipy/reference/generated/scipy.optimize.minimize.html))."
   ]
  },
  {
   "cell_type": "code",
   "execution_count": null,
   "metadata": {},
   "outputs": [],
   "source": [
    "from scipy.optimize import OptimizeResult\n",
    "\n",
    "\n",
    "def SGD(fun, x0, args, **kwargs) -> OptimizeResult:\n",
    "    # feed weights from each iteration to update network and log metrics\n",
    "    callback = kwargs['callback']\n",
    "    mu = kwargs['momentum']\n",
    "    n_iter = kwargs['n_iter']\n",
    "    gamma = kwargs['lr']\n",
    "    jac = kwargs['jac']\n",
    "    batch_size = kwargs['batch_size']\n",
    "\n",
    "    net, X, y = args\n",
    "\n",
    "    # your code is here"
   ]
  },
  {
   "cell_type": "markdown",
   "metadata": {},
   "source": [
    "**Задание 1. (0.5 балла)** Продемонстрируйте правильную работу метода оптимизации, получив `test_accuracy>=0.9`."
   ]
  },
  {
   "cell_type": "code",
   "execution_count": null,
   "metadata": {},
   "outputs": [],
   "source": [
    "# your code is here"
   ]
  },
  {
   "cell_type": "markdown",
   "metadata": {},
   "source": [
    "**Задание 2. (0.8 балла)** Сравните три алгоритма:\n",
    "1. LBFGS-B\n",
    "2. SGD\n",
    "3. SGD + momentum\n",
    "\n",
    "Для этого одновременно переберите следующие гиперпараметры:\n",
    "- значения `lr` на отрезке `[1e-3, 1e-1]` по логарифмической сетке\n",
    "- два значения `momentum`: `0` и `0.9`\n",
    "- значения `batch_size`: `8` и `32`\n",
    "\n",
    "В каждом запуске сохраняйте три метрики: итоговое accuracy на тесте и на трейне и время обучения.\n",
    "\n",
    "Для каждого из трёх алгоритмов выберите лучшие `lr` и `batch_size` по `test_accuracy`. Постройте для них кривые обучения (пример ниже). Сделайте выводы.\n",
    "\n",
    "![](comparison.svg)"
   ]
  },
  {
   "cell_type": "code",
   "execution_count": null,
   "metadata": {},
   "outputs": [],
   "source": [
    "# your code is here"
   ]
  },
  {
   "cell_type": "markdown",
   "metadata": {},
   "source": [
    "**Выводы:**"
   ]
  },
  {
   "cell_type": "markdown",
   "metadata": {},
   "source": []
  },
  {
   "cell_type": "markdown",
   "metadata": {},
   "source": [
    "**Задание 3. (0.1 балла)** Для отобранных в прошлом задании трёх алгоритмов ответье на вопрос: как меняются запуски для двух значений `batch_size`."
   ]
  },
  {
   "cell_type": "markdown",
   "metadata": {},
   "source": [
    "**Ответ:**"
   ]
  },
  {
   "cell_type": "markdown",
   "metadata": {},
   "source": []
  },
  {
   "cell_type": "markdown",
   "metadata": {
    "heading_collapsed": true
   },
   "source": [
    "## `Бонусная часть`"
   ]
  },
  {
   "cell_type": "markdown",
   "metadata": {
    "hidden": true
   },
   "source": [
    "### `Реализация метода оптимизации (1 балл)`\n",
    "\n",
    "Реализуйте метод оптимизации Adam и сравните его работу с SGD + momentum, проведя эксперимент, как в задании 2 (перебор гиперпараметров + кривые обучения)."
   ]
  },
  {
   "cell_type": "markdown",
   "metadata": {
    "hidden": true
   },
   "source": [
    "### `Dropout (1 балл)`\n",
    "\n",
    "Реализуйте слой Dropout. Сравните обучение сети из большого числа слоёв при использовании Dropout и без его использования (предварительно подберите адекватный параметр $p$). Сделайте выводы."
   ]
  },
  {
   "cell_type": "markdown",
   "metadata": {
    "hidden": true
   },
   "source": [
    "### `BatchNormalization (1 балл)`\n",
    "\n",
    "Реализуйте слой `BatchNormalization`. Сравните обучение сети из большого числа слоёв при использовании `BatchNormalization` и без его использования. Сделайте выводы."
   ]
  }
 ],
 "metadata": {
  "kernelspec": {
   "display_name": "Python 3 (ipykernel)",
   "language": "python",
   "name": "python3"
  },
  "language_info": {
   "codemirror_mode": {
    "name": "ipython",
    "version": 3
   },
   "file_extension": ".py",
   "mimetype": "text/x-python",
   "name": "python",
   "nbconvert_exporter": "python",
   "pygments_lexer": "ipython3",
   "version": "3.11.5"
  }
 },
 "nbformat": 4,
 "nbformat_minor": 2
}
